{
 "cells": [
  {
   "cell_type": "markdown",
   "metadata": {},
   "source": [
    "_Aboa Bouadou, Rose Guionnet, Nathan Laîné, Victor Devys, Tino Margely_"
   ]
  },
  {
   "cell_type": "markdown",
   "metadata": {},
   "source": [
    "# Modèle multi machine avec maximiation de rendement"
   ]
  },
  {
   "cell_type": "code",
   "execution_count": 24,
   "metadata": {},
   "outputs": [],
   "source": [
    "def dataframe_to_list(data):\n",
    "    dataframe = data.copy()\n",
    "    #dataframe = dataframe\n",
    "    min_date = dataframe['disp'].min().to_pydatetime()\n",
    "    dataframe['disp'] = dataframe['disp'].apply(lambda x: (x.to_pydatetime()- min_date).total_seconds()/SECONDS_PER_DAY)\n",
    "    dataframe['max'] = dataframe['max'].apply(lambda x: (x.to_pydatetime()-min_date).total_seconds()/SECONDS_PER_DAY)\n",
    "    dataframe['durée'] = dataframe['durée']\n",
    "    \n",
    "    return(list(dataframe['disp']),list(dataframe['max']),list(dataframe['durée']))"
   ]
  },
  {
   "cell_type": "code",
   "execution_count": 25,
   "metadata": {},
   "outputs": [],
   "source": [
    "import pandas as pd\n",
    "import seaborn as sns\n",
    "from datetime import datetime, timedelta\n",
    "import gurobipy\n",
    "import numpy as np\n",
    "import math\n",
    "import networkx as nx\n",
    "from networkx.drawing.nx_pydot import graphviz_layout\n",
    "from matplotlib import pyplot as plt\n",
    "import copy\n",
    "import time\n",
    "from pulp import *\n",
    "import matplotlib.patches as patches\n",
    "import matplotlib.colors as mcolors\n",
    "import scipy.stats as stats"
   ]
  },
  {
   "cell_type": "code",
   "execution_count": 26,
   "metadata": {},
   "outputs": [],
   "source": [
    "import pulp"
   ]
  },
  {
   "cell_type": "code",
   "execution_count": 27,
   "metadata": {},
   "outputs": [],
   "source": [
    "SECONDS_PER_DAY = 24*60*60"
   ]
  },
  {
   "cell_type": "code",
   "execution_count": 28,
   "metadata": {},
   "outputs": [],
   "source": [
    "data = pd.read_excel(\"data/raw/Orano-données-Double.xlsx\", sheet_name=\"Optim\", header=5, usecols=[3,4,5,6,7], nrows=47)"
   ]
  },
  {
   "cell_type": "markdown",
   "metadata": {},
   "source": [
    "# Multi machines"
   ]
  },
  {
   "cell_type": "code",
   "execution_count": 118,
   "metadata": {},
   "outputs": [],
   "source": [
    "def solvePLNEMultiMachines(disp, dmax, duree,M,bigM,mu,a):    \n",
    "    \n",
    "    Tasks=range(len(disp)) #Liste des taches \n",
    "    Machine=range(M)\n",
    "    \n",
    "    model = LpProblem(\"Orano\", LpMaximize)\n",
    "    \n",
    "    # Variables \n",
    "    y = LpVariable.dicts(\"y\",((i,m) for i in Tasks for m in Machine),0,1,LpInteger) #y_{i}^m si i est usinée sur la machine m\n",
    "    x = LpVariable.dicts(\"x\", ((i,j,m) for i in Tasks for j in Tasks for m in Machine),0,1,LpInteger) #x_{i,j}^m=1 si i est usinée avant j\n",
    "    deb = LpVariable.dicts(\"deb\", Tasks,0, None)\n",
    "    dem = LpVariable.dicts(\"dem\", Tasks,0, None)\n",
    "    real = LpVariable.dicts(\"real\", Tasks,0, None)\n",
    "    marge = LpVariable.dicts(\"marge\", Tasks,0, None)\n",
    "    z3 = LpVariable.dicts(\"z3\", ((i,j,k,m) for i in Tasks for j in Tasks for k in Tasks for m in Machine),0,1,LpInteger)\n",
    "    z2 = LpVariable.dicts(\"z2\", ((i,j,m) for i in Tasks for j in Tasks for m in Machine),0,1,LpInteger)\n",
    "    liv = LpVariable.dicts(\"liv\", Tasks,0, None)\n",
    "    W = LpVariable(\"W\", lowBound=0)\n",
    "    \n",
    "    # Contraintes :\n",
    "    for j in Tasks:\n",
    "        for m in Machine:\n",
    "            model += x[j,j,m] == 0 \n",
    "            \n",
    "        model += lpSum(y[j,m] for m in Machine)==1\n",
    "        model += dem[j] >= disp[j]\n",
    "        model += real[j] == dem[j] + duree[j] \n",
    "        model += W <= marge[j]\n",
    "        model += liv[j] == deb[j] + 30\n",
    "        model += liv[j] <= dmax[j]\n",
    "        model += marge[j] == dmax[j] - liv[j]\n",
    "        model += deb[j] >= real[j]\n",
    "        #model += risque[j] == 100*(1-stats.gamma.cdf(marge[j].varValue,a=4,scale=7.5))\n",
    "        #for m in Machine:\n",
    "            #model += dem[j] >= lpSum(duree[i]*x[i,j,m] for i in Tasks)\n",
    "            \n",
    "        for i in Tasks:\n",
    "            if i != j:\n",
    "                for m in Machine:\n",
    "                    model += dem[j]>= real[i]-bigM*(1-x[i,j,m])\n",
    "                    model += z2[j,i,m] <= y[i,m]\n",
    "                    model += z2[j,i,m] <= y[j,m]\n",
    "                    model += z2[j,i,m] >= (y[i,m]+y[j,m])-1\n",
    "                    model += z2[j,i,m] >= 0\n",
    "                    model += x[i,j,m]+x[j,i,m]==z2[i,j,m]\n",
    "                    model += x[j,i,m]<=z2[i,j,m]\n",
    "                \n",
    "            for k in Tasks:\n",
    "                if i!=k and j!=k:\n",
    "                    for m in Machine : \n",
    "                        model += z3[i,j,k,m] <= y[i,m]\n",
    "                        model += z3[i,j,k,m] <= y[j,m]\n",
    "                        model += z3[i,j,k,m] <= y[k,m]\n",
    "                        model += z3[i,j,k,m] >= (y[i,m]+y[j,m]+y[k,m])-2\n",
    "                        model += z3[i,j,k,m] >= 0\n",
    "                        model += x[i,j,m]+x[j,k,m]-1 <= x[i,k,m]+bigM*(1-z3[i,j,k,m])\n",
    "                \n",
    "    # Objectif : \n",
    "    model+=  W #lpSum(risque[i] for i in Tasks) #+0.5*lpSum(mu[i]*a[m]*y[i,m] for i in Tasks for m in Machine)\n",
    "    \n",
    "    #Resolution du PLNE : \n",
    "    starttime=time.time() #Pour avoir le temps d'execution\n",
    "    model.solve(GUROBI_CMD())\n",
    "    solveTime=time.time()-starttime\n",
    "    \n",
    "    #Affichage des éléments de résolution\n",
    "    f_val=[]\n",
    "    for i in range(0,len(Tasks)):\n",
    "        f_val.append(model.variables()[i].varValue)\n",
    "    order=np.argsort(f_val)\n",
    "        \n",
    "    print(\"Temps de résolution = \", solveTime)\n",
    "    print(\"Statut de la solution = \", LpStatus[model.status])\n",
    "    print(\"Valeur optimale = \", value(model.objective))\n",
    "    return(solveTime,value(model.objective),model.variables())"
   ]
  },
  {
   "cell_type": "code",
   "execution_count": 121,
   "metadata": {},
   "outputs": [],
   "source": [
    "data = pd.read_excel(\"data/raw/Orano-données-Double.xlsx\", sheet_name=\"Optim\", header=5, usecols=[3,4,5,6,7], nrows=47)\n",
    "n = 10\n",
    "disp, dmax, duree = dataframe_to_list(data)\n",
    "disp, dmax, duree = disp[:n], dmax[:n], duree[:n]\n"
   ]
  },
  {
   "cell_type": "code",
   "execution_count": 122,
   "metadata": {},
   "outputs": [
    {
     "name": "stdout",
     "output_type": "stream",
     "text": [
      "Temps de résolution =  0.8337712287902832\n",
      "Statut de la solution =  Optimal\n",
      "Valeur optimale =  90.86627393239999\n"
     ]
    }
   ],
   "source": [
    "np.random.seed(10)\n",
    "a=[12,-8]\n",
    "mu=np.random.uniform(0.1,0.7,15)\n",
    "#mu = np.array([0.2296641 , 0.40675465, 0.68479926, 0.3706997 , 0.54441507,\n",
    "       #0.64438408, 0.2961252 , 0.55398726, 0.31494726, 0.57874968,\n",
    "       #0.1232133 , 0.49606226, 0.39126259, 0.62032743, 0.58572962])\n",
    "[t,price,var]=solvePLNEMultiMachines(disp, dmax, duree,2,10**6,mu,a)"
   ]
  },
  {
   "cell_type": "markdown",
   "metadata": {},
   "source": [
    "# Affichage"
   ]
  },
  {
   "cell_type": "code",
   "execution_count": 123,
   "metadata": {},
   "outputs": [],
   "source": [
    "def printEDT(var,M):\n",
    "    \n",
    "    Tasks=range(len(disp))  \n",
    "  \n",
    "    varsdict = {}\n",
    "    for v in var:\n",
    "        varsdict[v.name] = v.varValue\n",
    "\n",
    "    dem=[\"dem_{}\".format(i) for i in range(len(Tasks))]\n",
    "    demVal=[varsdict[dem[i]] for i in range(len(dem))]\n",
    "    deb=[\"deb_{}\".format(i) for i in range(len(Tasks))]\n",
    "    debVal=[varsdict[deb[i]] for i in range(len(dem))]\n",
    "    liv=[\"liv_{}\".format(i) for i in range(len(Tasks))]\n",
    "    livVal=[varsdict[liv[i]] for i in range(len(dem))]\n",
    "    marge=[\"marge_{}\".format(i) for i in range(len(Tasks))]\n",
    "    margeVal=[varsdict[marge[i]] for i in range(len(dem))]\n",
    "    real=[\"real_{}\".format(i) for i in range(len(Tasks))]\n",
    "    realVal=[varsdict[real[i]] for i in range(len(dem))]\n",
    "    y=[('y_('+str(i)+',_'+str(j)+')') for i in range(len(Tasks)) for j in range(M)]\n",
    "\n",
    "    machine=[[] for m in range(M)]\n",
    "    real2=[[] for m in range(M)]\n",
    "    dem2=[[] for m in range(M)]\n",
    "    deb2=[[] for m in range(M)]\n",
    "    liv2=[[] for m in range(M)]\n",
    "\n",
    "    for task in range(len(Tasks)):\n",
    "        for m in range(M): \n",
    "            if(varsdict[('y_('+str(task)+',_'+str(m)+')')]==1):\n",
    "                machine[m].append(task)\n",
    "                real2[m].append(realVal[task])\n",
    "                dem2[m].append(demVal[task])\n",
    "                deb2[m].append(debVal[task])\n",
    "                liv2[m].append(livVal[task])\n",
    "                break\n",
    "    \n",
    "\n",
    "    print('PLANIFICATION :')     \n",
    "    for m in range(len(machine)):\n",
    "        \n",
    "        deb=dict(zip(machine[m],deb2[m]))\n",
    "        dem=dict(zip(machine[m],dem2[m]))\n",
    "        real=dict(zip(machine[m],real2[m]))\n",
    "        liv=dict(zip(machine[m],liv2[m]))\n",
    "        order=sorted(deb,key=deb.get)\n",
    "        plt.clf()\n",
    "        fig, axs = plt.subplots(figsize=(12, 1), tight_layout=True)\n",
    "        \n",
    "        colors = list(mcolors.CSS4_COLORS.keys())\n",
    "        colors_to_exclude = ['light', 'white', 'snow', 'slate', 'gray', 'beige', 'blanchedalmond', 'aliceblue', 'azure',\n",
    "                         'bisque', 'aqua', 'cornsilk']\n",
    "        for col in colors_to_exclude:\n",
    "            colors = [c for c in colors if col not in c]\n",
    "            \n",
    "        used_colors = dict()\n",
    "        for i in range(len(machine[m])):\n",
    "            for col in colors:\n",
    "                if col not in used_colors.values():\n",
    "                    used_colors[i] = col\n",
    "                    break\n",
    "        j=0\n",
    "        \n",
    "        for i in machine[m]:\n",
    "            x=dem[order[j]]\n",
    "            axs.add_patch(patches.Rectangle((x, 0), real[order[j]], 1, facecolor=colors[j],edgecolor='white',linewidth=2.0))\n",
    "            axs.annotate(order[j],(x+(real[order[j]]-dem[order[j]])/2,0.5),color='w', weight='bold',fontsize=10, ha='center', va='center')\n",
    "            j+=1\n",
    "            \n",
    "        plt.xticks(liv2[m])\n",
    "        plt.yticks([])\n",
    "        plt.title('Machine ' + str(m))\n",
    "        plt.show()\n",
    "    print(\"MARGES : \")\n",
    "    marges=np.array(dmax)-np.array(livVal)\n",
    "    marges2=[[] for m in range(M)]\n",
    "    for m in range(M):\n",
    "        for i in machine[m]:\n",
    "            marges2[m].append(marges[i])\n",
    "        plt.subplots(figsize=(12, 8))\n",
    "        sns.barplot(machine[m],marges2[m])\n",
    "        plt.title(\"Marges sur la machine {}\".format(m))\n",
    "        plt.xlabel(\"Tache\")\n",
    "        plt.ylabel(\"Marges\")\n",
    "        \n",
    "    \n",
    "    print(\"RENDEMENTS : \")\n",
    "    for m in range(len(machine)):\n",
    "        plt.figure(figsize=(12,8))\n",
    "        plt.plot(np.linspace(0,1,100),a[m]*np.linspace(0,1,100))\n",
    "        for i in machine[m]:\n",
    "            plt.plot(mu[i],a[m]*mu[i], 'ro')\n",
    "            plt.annotate(str(i),(mu[i],a[m]*(mu[i]+0.05)),color=\"red\",weight='bold',fontsize=10,ha='center',va='center')\n",
    "        plt.title(\"Machine \"+str(m))\n",
    "        plt.show()"
   ]
  },
  {
   "cell_type": "code",
   "execution_count": 124,
   "metadata": {},
   "outputs": [
    {
     "name": "stdout",
     "output_type": "stream",
     "text": [
      "PLANIFICATION :\n"
     ]
    },
    {
     "data": {
      "text/plain": [
       "<Figure size 432x288 with 0 Axes>"
      ]
     },
     "metadata": {},
     "output_type": "display_data"
    },
    {
     "data": {
      "image/png": "[encoded data removed]",
      "text/plain": [
       "<Figure size 864x72 with 1 Axes>"
      ]
     },
     "metadata": {
      "needs_background": "light"
     },
     "output_type": "display_data"
    },
    {
     "data": {
      "text/plain": [
       "<Figure size 432x288 with 0 Axes>"
      ]
     },
     "metadata": {},
     "output_type": "display_data"
    },
    {
     "data": {
      "image/png": "[encoded data removed]",
      "text/plain": [
       "<Figure size 864x72 with 1 Axes>"
      ]
     },
     "metadata": {
      "needs_background": "light"
     },
     "output_type": "display_data"
    },
    {
     "name": "stdout",
     "output_type": "stream",
     "text": [
      "MARGES : \n",
      "RENDEMENTS : \n"
     ]
    },
    {
     "data": {
      "image/png": "[encoded data removed]",
      "text/plain": [
       "<Figure size 864x576 with 1 Axes>"
      ]
     },
     "metadata": {
      "needs_background": "light"
     },
     "output_type": "display_data"
    },
    {
     "data": {
      "image/png": "[encoded data removed]",
      "text/plain": [
       "<Figure size 864x576 with 1 Axes>"
      ]
     },
     "metadata": {
      "needs_background": "light"
     },
     "output_type": "display_data"
    },
    {
     "data": {
      "image/png": "[encoded data removed]",
      "text/plain": [
       "<Figure size 864x576 with 1 Axes>"
      ]
     },
     "metadata": {
      "needs_background": "light"
     },
     "output_type": "display_data"
    },
    {
     "data": {
      "image/png": "[encoded data removed]",
      "text/plain": [
       "<Figure size 864x576 with 1 Axes>"
      ]
     },
     "metadata": {
      "needs_background": "light"
     },
     "output_type": "display_data"
    }
   ],
   "source": [
    "printEDT(var,2)"
   ]
  },
  {
   "cell_type": "markdown",
   "metadata": {},
   "source": [
    "# Tests"
   ]
  },
  {
   "cell_type": "code",
   "execution_count": 125,
   "metadata": {},
   "outputs": [],
   "source": [
    "def printTest(var,M):\n",
    "    Tasks=range(len(disp))  \n",
    "    Machine=range(M)\n",
    "    varsdict = {}\n",
    "    for v in var:\n",
    "        varsdict[v.name] = v.varValue\n",
    "\n",
    "    dem=[\"dem_{}\".format(i) for i in range(len(Tasks))]\n",
    "    demVal=[varsdict[dem[i]] for i in range(len(dem))]\n",
    "    deb=[\"deb_{}\".format(i) for i in range(len(Tasks))]\n",
    "    debVal=[varsdict[deb[i]] for i in range(len(dem))]\n",
    "    liv=[\"liv_{}\".format(i) for i in range(len(Tasks))]\n",
    "    livVal=[varsdict[liv[i]] for i in range(len(dem))]\n",
    "    marge=[\"marge_{}\".format(i) for i in range(len(Tasks))]\n",
    "    margeVal=[varsdict[marge[i]] for i in range(len(dem))]\n",
    "    real=[\"real_{}\".format(i) for i in range(len(Tasks))]\n",
    "    realVal=[varsdict[real[i]] for i in range(len(dem))]\n",
    "    y=[('y_('+str(i)+',_'+str(j)+')') for i in range(len(Tasks)) for j in range(M)]\n",
    "\n",
    "    machine=[[] for m in range(M)]\n",
    "    real2=[[] for m in range(M)]\n",
    "    dem2=[[] for m in range(M)]\n",
    "    deb2=[[] for m in range(M)]\n",
    "    liv2=[[] for m in range(M)]\n",
    "\n",
    "    for task in range(len(Tasks)):\n",
    "        for m in range(M): \n",
    "            if(varsdict[('y_('+str(task)+',_'+str(m)+')')]==1):\n",
    "                machine[m].append(task)\n",
    "                real2[m].append(realVal[task])\n",
    "                dem2[m].append(demVal[task])\n",
    "                deb2[m].append(debVal[task])\n",
    "                liv2[m].append(livVal[task])\n",
    "                break\n",
    "    print('PLANIFICATION :')     \n",
    "    for m in range(len(machine)):\n",
    "        print(\"-------------------------Machine\"+str(m)+\"---------------------------------------\")\n",
    "        deb=dict(zip(machine[m],deb2[m]))\n",
    "        dem=dict(zip(machine[m],dem2[m]))\n",
    "        real=dict(zip(machine[m],real2[m]))\n",
    "        liv=dict(zip(machine[m],liv2[m]))\n",
    "        order=sorted(dem,key=dem.get)\n",
    "        for i in order:\n",
    "            print(f'Tâche#{i:-<5}Démarrage : {round(dem[i],5) :<10} Fin : {round(real[i],5) :<10} Marge : {round(dmax[i]-liv[i],5)}')\n",
    "        print(\"\\n\")\n",
    "        \n",
    "    print(len(machine))"
   ]
  },
  {
   "cell_type": "code",
   "execution_count": 126,
   "metadata": {},
   "outputs": [
    {
     "name": "stdout",
     "output_type": "stream",
     "text": [
      "PLANIFICATION :\n",
      "-------------------------Machine0---------------------------------------\n",
      "Tâche#1----Démarrage : 1.0        Fin : 60.13373   Marge : 90.86627\n",
      "Tâche#6----Démarrage : 121.73633  Fin : 213.13373  Marge : 90.86627\n",
      "Tâche#8----Démarrage : 213.13373  Fin : 233.11952  Marge : 132.88048\n",
      "\n",
      "\n",
      "-------------------------Machine1---------------------------------------\n",
      "Tâche#3----Démarrage : 3.0        Fin : 9.04473    Marge : 203.95527\n",
      "Tâche#0----Démarrage : 9.04473    Fin : 15.10179   Marge : 105.89821\n",
      "Tâche#2----Démarrage : 15.10179   Fin : 33.83983   Marge : 148.16017\n",
      "Tâche#5----Démarrage : 33.83983   Fin : 52.86383   Marge : 221.13617\n",
      "Tâche#4----Démarrage : 52.86383   Fin : 123.87277  Marge : 119.12723\n",
      "Tâche#7----Démarrage : 123.87277  Fin : 224.31057  Marge : 110.68943\n",
      "Tâche#9----Démarrage : 224.31057  Fin : 290.57324  Marge : 103.42676\n",
      "\n",
      "\n",
      "2\n"
     ]
    }
   ],
   "source": [
    "printTest(var,2)"
   ]
  },
  {
   "cell_type": "code",
   "execution_count": 151,
   "metadata": {},
   "outputs": [],
   "source": [
    "def risqueMarges(alpha,beta):\n",
    "    marges = range(20,366)\n",
    "    risque = [(1-stats.gamma.cdf(marges[i],a=alpha,scale=beta)) for i in range(len(marges))]\n",
    "    return dict(zip(marges,risque))\n"
   ]
  },
  {
   "cell_type": "code",
   "execution_count": 153,
   "metadata": {},
   "outputs": [],
   "source": [
    "test = risqueMarges(4,7.5)"
   ]
  },
  {
   "cell_type": "code",
   "execution_count": 141,
   "metadata": {},
   "outputs": [
    {
     "data": {
      "text/plain": [
       "0.39748027559444293"
      ]
     },
     "execution_count": 141,
     "metadata": {},
     "output_type": "execute_result"
    }
   ],
   "source": []
  }
 ],
 "metadata": {
  "kernelspec": {
   "display_name": "Python 3",
   "language": "python",
   "name": "python3"
  },
  "language_info": {
   "codemirror_mode": {
    "name": "ipython",
    "version": 3
   },
   "file_extension": ".py",
   "mimetype": "text/x-python",
   "name": "python",
   "nbconvert_exporter": "python",
   "pygments_lexer": "ipython3",
   "version": "3.7.4"
  }
 },
 "nbformat": 4,
 "nbformat_minor": 4
}
