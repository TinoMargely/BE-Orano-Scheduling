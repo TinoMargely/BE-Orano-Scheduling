{
 "cells": [
  {
   "cell_type": "markdown",
   "metadata": {},
   "source": [
    "_Aboa Bouadou, Rose Guionnet, Nathan Laîné, Victor Devys, Tino Margely_"
   ]
  },
  {
   "cell_type": "markdown",
   "metadata": {},
   "source": [
    "## Import Modules"
   ]
  },
  {
   "cell_type": "code",
   "execution_count": 1,
   "metadata": {},
   "outputs": [],
   "source": [
    "import pandas as pd\n",
    "from datetime import datetime, timedelta"
   ]
  },
  {
   "cell_type": "code",
   "execution_count": 2,
   "metadata": {},
   "outputs": [],
   "source": [
    "import numpy as np\n",
    "import math\n",
    "import networkx as nx\n",
    "from networkx.drawing.nx_pydot import graphviz_layout\n",
    "from matplotlib import pyplot as plt\n",
    "import copy\n",
    "import time\n",
    "from pulp import *"
   ]
  },
  {
   "cell_type": "code",
   "execution_count": 3,
   "metadata": {},
   "outputs": [],
   "source": [
    "SECONDS_PER_DAY = 24*60*60"
   ]
  },
  {
   "cell_type": "markdown",
   "metadata": {},
   "source": [
    "## Read Data"
   ]
  },
  {
   "cell_type": "code",
   "execution_count": 4,
   "metadata": {},
   "outputs": [],
   "source": [
    "data = pd.read_excel(\"data/raw/Orano-données-Single.xlsx\", sheet_name=\"Optim\", header=5, usecols=[3,4,5,6,7], nrows=47)"
   ]
  },
  {
   "cell_type": "code",
   "execution_count": 5,
   "metadata": {},
   "outputs": [
    {
     "data": {
      "text/html": [
       "<div>\n",
       "<style scoped>\n",
       "    .dataframe tbody tr th:only-of-type {\n",
       "        vertical-align: middle;\n",
       "    }\n",
       "\n",
       "    .dataframe tbody tr th {\n",
       "        vertical-align: top;\n",
       "    }\n",
       "\n",
       "    .dataframe thead th {\n",
       "        text-align: right;\n",
       "    }\n",
       "</style>\n",
       "<table border=\"1\" class=\"dataframe\">\n",
       "  <thead>\n",
       "    <tr style=\"text-align: right;\">\n",
       "      <th></th>\n",
       "      <th>Commandes</th>\n",
       "      <th>ordre</th>\n",
       "      <th>disp</th>\n",
       "      <th>max</th>\n",
       "      <th>durée</th>\n",
       "    </tr>\n",
       "  </thead>\n",
       "  <tbody>\n",
       "    <tr>\n",
       "      <th>0</th>\n",
       "      <td>c1</td>\n",
       "      <td>1</td>\n",
       "      <td>2021-01-01</td>\n",
       "      <td>2021-06-01</td>\n",
       "      <td>6.057056</td>\n",
       "    </tr>\n",
       "    <tr>\n",
       "      <th>1</th>\n",
       "      <td>c2</td>\n",
       "      <td>2</td>\n",
       "      <td>2021-02-01</td>\n",
       "      <td>2021-08-01</td>\n",
       "      <td>59.133726</td>\n",
       "    </tr>\n",
       "    <tr>\n",
       "      <th>2</th>\n",
       "      <td>c3</td>\n",
       "      <td>3</td>\n",
       "      <td>2021-03-01</td>\n",
       "      <td>2021-10-01</td>\n",
       "      <td>18.738048</td>\n",
       "    </tr>\n",
       "    <tr>\n",
       "      <th>3</th>\n",
       "      <td>c4</td>\n",
       "      <td>4</td>\n",
       "      <td>2021-04-01</td>\n",
       "      <td>2021-12-01</td>\n",
       "      <td>6.044729</td>\n",
       "    </tr>\n",
       "    <tr>\n",
       "      <th>4</th>\n",
       "      <td>c5</td>\n",
       "      <td>5</td>\n",
       "      <td>2021-05-01</td>\n",
       "      <td>2022-02-01</td>\n",
       "      <td>71.008938</td>\n",
       "    </tr>\n",
       "  </tbody>\n",
       "</table>\n",
       "</div>"
      ],
      "text/plain": [
       "  Commandes  ordre       disp        max      durée\n",
       "0        c1      1 2021-01-01 2021-06-01   6.057056\n",
       "1        c2      2 2021-02-01 2021-08-01  59.133726\n",
       "2        c3      3 2021-03-01 2021-10-01  18.738048\n",
       "3        c4      4 2021-04-01 2021-12-01   6.044729\n",
       "4        c5      5 2021-05-01 2022-02-01  71.008938"
      ]
     },
     "execution_count": 5,
     "metadata": {},
     "output_type": "execute_result"
    }
   ],
   "source": [
    "data.head()"
   ]
  },
  {
   "cell_type": "code",
   "execution_count": 6,
   "metadata": {},
   "outputs": [
    {
     "data": {
      "text/plain": [
       "datetime.datetime(2021, 1, 1, 0, 0)"
      ]
     },
     "execution_count": 6,
     "metadata": {},
     "output_type": "execute_result"
    }
   ],
   "source": [
    "data['disp'].min().to_pydatetime()"
   ]
  },
  {
   "cell_type": "markdown",
   "metadata": {},
   "source": [
    "# Convert Excel to problem data"
   ]
  },
  {
   "cell_type": "code",
   "execution_count": 7,
   "metadata": {},
   "outputs": [],
   "source": [
    "def dataframe_to_list(data):\n",
    "    dataframe = data.copy()\n",
    "    #dataframe = dataframe\n",
    "    min_date = dataframe['disp'].min().to_pydatetime()\n",
    "    dataframe['disp'] = dataframe['disp'].apply(lambda x: (x.to_pydatetime()- min_date).total_seconds()/SECONDS_PER_DAY)\n",
    "    dataframe['max'] = dataframe['max'].apply(lambda x: (x.to_pydatetime()-min_date).total_seconds()/SECONDS_PER_DAY)\n",
    "    dataframe['durée'] = dataframe['durée']\n",
    "    \n",
    "    return(list(dataframe['disp']),list(dataframe['max']),list(dataframe['durée']))"
   ]
  },
  {
   "cell_type": "code",
   "execution_count": 8,
   "metadata": {},
   "outputs": [],
   "source": [
    "n = 15\n",
    "disp, dmax, duree = dataframe_to_list(data)\n",
    "disp, dmax, duree = disp[:n], dmax[:n], duree[:n]"
   ]
  },
  {
   "cell_type": "code",
   "execution_count": 9,
   "metadata": {},
   "outputs": [
    {
     "name": "stdout",
     "output_type": "stream",
     "text": [
      "Disp :  [0.0, 31.0, 59.0, 90.0, 120.0] ...\n",
      "Max :  [151.0, 212.0, 273.0, 334.0, 396.0] ...\n",
      "Durée :  [6.057056413817744, 59.13372606760222, 18.738048272122583, 6.044729107183509, 71.0089381707361] ...\n"
     ]
    }
   ],
   "source": [
    "print(\"Disp : \" , disp[:5], \"...\")\n",
    "print(\"Max : \" , dmax[:5], \"...\")\n",
    "print(\"Durée : \" , duree[:5], \"...\")"
   ]
  },
  {
   "cell_type": "code",
   "execution_count": 10,
   "metadata": {},
   "outputs": [],
   "source": [
    "def isFeasible(disp, dmax, duree):\n",
    "    time = sum(duree)\n",
    "    date_max_max = max(dmax)\n",
    "    print(\"time sum : \", time)\n",
    "    print(\"Date Max max : \", date_max_max)"
   ]
  },
  {
   "cell_type": "code",
   "execution_count": 11,
   "metadata": {},
   "outputs": [
    {
     "name": "stdout",
     "output_type": "stream",
     "text": [
      "time sum :  729.4444821614793\n",
      "Date Max max :  1003.0\n"
     ]
    }
   ],
   "source": [
    "isFeasible(disp, dmax, duree)"
   ]
  },
  {
   "cell_type": "markdown",
   "metadata": {},
   "source": [
    "## Première résolution"
   ]
  },
  {
   "cell_type": "code",
   "execution_count": 12,
   "metadata": {},
   "outputs": [],
   "source": [
    "def solvePLNE(disp, dmax, duree):\n",
    "    \n",
    "    Tasks= list(range(len(disp))) #Liste des taches\n",
    "    print(\"Tasks : \", Tasks)\n",
    "    M = 100000\n",
    "    \n",
    "    model = LpProblem(\"Orano\", LpMaximize)\n",
    "    \n",
    "    # Variables \n",
    "    x = LpVariable.dicts(\"x\", ((i, j) for i in Tasks for j in Tasks),0,1,LpInteger) #x_{i,j}=1 si i est usinée avant j\n",
    "    deb = LpVariable.dicts(\"deb\", Tasks,0, None)\n",
    "    dem = LpVariable.dicts(\"dem\", Tasks,0, None)\n",
    "    real = LpVariable.dicts(\"real\", Tasks,0, None)\n",
    "    marge = LpVariable.dicts(\"marge\", Tasks,0, None)\n",
    "    liv = LpVariable.dicts(\"liv\", Tasks,0, None)\n",
    "    z = LpVariable(\"z\", lowBound=0)\n",
    "    \n",
    "    # Contraintes :\n",
    "    for j in Tasks:\n",
    "        model += x[j,j] == 0\n",
    "        model += dem[j] >= disp[j]\n",
    "        model += real[j] == dem[j] + duree[j]\n",
    "        #\n",
    "        #for i in Tasks:\n",
    "        #    if i!=j:\n",
    "        #        model += dem[j] >= real[i] - M*(1-x[i,j]) \n",
    "        model += dem[j] >= lpSum(duree[i]*x[i,j] for i in Tasks)\n",
    "        model += liv[j] == deb[j] + 30\n",
    "        model += liv[j] <= dmax[j]\n",
    "        model += marge[j] == dmax[j] - liv[j]\n",
    "        model += deb[j] >= real[j]\n",
    "        model += z <= marge[j]\n",
    "        for i in Tasks:\n",
    "            if i != j:\n",
    "                model += x[j,i] + x[i,j] == 1 \n",
    "            \n",
    "            for k in Tasks:\n",
    "                if i!=j and i!=k and j!=k:\n",
    "                    model += x[i,k] >= x[i,j] + x[j,k] - 1\n",
    "    \n",
    "    \n",
    "    # Objectif : \n",
    "    model += z  \n",
    "    \n",
    "    #Resolution du PLNE : \n",
    "    starttime=time.time() #Pour avoir le temps d'execution\n",
    "    #model.solve(PULP_CBC_CMD(maxSeconds=15))\n",
    "    model.solve(PULP_CBC_CMD())\n",
    "    solveTime=time.time()-starttime\n",
    "    \n",
    "    #Affichage des éléments de résolution\n",
    "    f_val=[]\n",
    "    for i in range(0,len(Tasks)):\n",
    "        f_val.append(model.variables()[i].varValue)\n",
    "    order=np.argsort(f_val)\n",
    "    \n",
    "        \n",
    "    print(\"Temps de résolution = \", solveTime)\n",
    "    print(\"Statut de la solution = \", LpStatus[model.status])\n",
    "    print(\"Valeur optimale = \", value(model.objective))\n",
    "    print(\"Ordre des taches =\",order)\n",
    "    for i in range(len(Tasks)):\n",
    "        print(model.variables()[i], model.variables()[i].value())\n",
    "    for i in range(len(Tasks),2*len(Tasks)):\n",
    "        print(model.variables()[i], model.variables()[i].value())\n",
    "    for i in range(2*len(Tasks),3*len(Tasks)):\n",
    "        print(model.variables()[i], model.variables()[i].value())\n",
    "\n",
    "    return(solveTime,value(model.objective),list(order))"
   ]
  },
  {
   "cell_type": "code",
   "execution_count": 13,
   "metadata": {},
   "outputs": [
    {
     "name": "stdout",
     "output_type": "stream",
     "text": [
      "Tasks :  [0, 1, 2, 3, 4, 5, 6, 7, 8, 9, 10, 11, 12, 13, 14]\n",
      "Temps de résolution =  0.18304204940795898\n",
      "Statut de la solution =  Optimal\n",
      "Valeur optimale =  91.866274\n",
      "Ordre des taches = [ 0  7  1  8 10  9 11 12  6 14 13  3  2  5  4]\n",
      "deb_0 24.795105\n",
      "deb_1 90.133726\n",
      "deb_10 585.24349\n",
      "deb_11 534.27211\n",
      "deb_12 729.44448\n",
      "deb_13 665.8627\n",
      "deb_14 429.21543\n",
      "deb_2 77.738048\n",
      "deb_3 160.9825\n",
      "deb_4 191.00894\n",
      "deb_5 180.00649\n",
      "deb_6 272.39739\n",
      "deb_7 371.84169\n",
      "deb_8 463.30558\n",
      "deb_9 443.31978\n",
      "dem_0 18.738048\n",
      "dem_1 31.0\n",
      "dem_10 534.27211\n",
      "dem_11 463.30558\n",
      "dem_12 665.8627\n",
      "dem_13 585.24349\n",
      "dem_14 424.0\n",
      "dem_2 59.0\n",
      "dem_3 154.93777\n",
      "dem_4 120.0\n",
      "dem_5 160.9825\n",
      "dem_6 181.0\n",
      "dem_7 271.40388\n",
      "dem_8 443.31978\n",
      "dem_9 377.05712\n",
      "liv_0 54.795105\n",
      "liv_1 120.13373\n",
      "liv_10 615.24349\n",
      "liv_11 564.27211\n",
      "liv_12 759.44448\n",
      "liv_13 695.8627\n",
      "liv_14 459.21543\n",
      "liv_2 107.73805\n",
      "liv_3 190.9825\n",
      "liv_4 221.00894\n",
      "liv_5 210.00649\n",
      "liv_6 302.39739\n",
      "liv_7 401.84169\n",
      "liv_8 493.30558\n",
      "liv_9 473.31978\n"
     ]
    },
    {
     "data": {
      "text/plain": [
       "(0.18304204940795898,\n",
       " 91.866274,\n",
       " [0, 7, 1, 8, 10, 9, 11, 12, 6, 14, 13, 3, 2, 5, 4])"
      ]
     },
     "execution_count": 13,
     "metadata": {},
     "output_type": "execute_result"
    }
   ],
   "source": [
    "solvePLNE(disp, dmax, duree)"
   ]
  },
  {
   "cell_type": "markdown",
   "metadata": {},
   "source": [
    "[0 1 2 5 3 4 8 6 7 9]\n",
    "\n",
    "[0 1 2 3 8 4 6 5 7 9]"
   ]
  },
  {
   "cell_type": "markdown",
   "metadata": {},
   "source": [
    "# Multi Machines"
   ]
  },
  {
   "cell_type": "code",
   "execution_count": 14,
   "metadata": {},
   "outputs": [],
   "source": [
    "data = pd.read_excel(\"data/raw/Orano-données-Double.xlsx\", sheet_name=\"Optim\", header=5, usecols=[3,4,5,6,7], nrows=47)"
   ]
  },
  {
   "cell_type": "code",
   "execution_count": 15,
   "metadata": {},
   "outputs": [],
   "source": [
    "n = 15\n",
    "disp, dmax, duree = dataframe_to_list(data)\n",
    "disp, dmax, duree = disp[:n], dmax[:n], duree[:n]"
   ]
  },
  {
   "cell_type": "code",
   "execution_count": 16,
   "metadata": {},
   "outputs": [
    {
     "name": "stdout",
     "output_type": "stream",
     "text": [
      "Disp :  [0.0, 1.0, 2.0, 3.0, 4.0] ...\n",
      "Max :  [151.0, 181.0, 212.0, 243.0, 273.0] ...\n",
      "Durée :  [6.057056413817744, 59.13372606760222, 18.738048272122583, 6.044729107183509, 71.0089381707361] ...\n"
     ]
    }
   ],
   "source": [
    "print(\"Disp : \" , disp[:5], \"...\")\n",
    "print(\"Max : \" , dmax[:5], \"...\")\n",
    "print(\"Durée : \" , duree[:5], \"...\")"
   ]
  },
  {
   "cell_type": "code",
   "execution_count": 17,
   "metadata": {},
   "outputs": [
    {
     "name": "stdout",
     "output_type": "stream",
     "text": [
      "time sum :  729.4444821614793\n",
      "Date Max max :  577.0\n"
     ]
    }
   ],
   "source": [
    "isFeasible(disp, dmax, duree)"
   ]
  },
  {
   "cell_type": "code",
   "execution_count": 18,
   "metadata": {},
   "outputs": [],
   "source": [
    "def solvePLNEMultiMachines(disp, dmax, duree,M,bigM,mu,a):    \n",
    "    \n",
    "    Tasks=range(len(disp)) #Liste des taches \n",
    "    Machine=range(M)\n",
    "    \n",
    "    model = LpProblem(\"Orano\", LpMaximize)\n",
    "    \n",
    "    # Variables \n",
    "    y = LpVariable.dicts(\"y\",((i,m) for i in Tasks for m in Machine),0,1,LpInteger) #y_{i}^m si i est usinée sur la machine m\n",
    "    x = LpVariable.dicts(\"x\", ((i,j,m) for i in Tasks for j in Tasks for m in Machine),0,1,LpInteger) #x_{i,j}^m=1 si i est usinée avant j\n",
    "    deb = LpVariable.dicts(\"deb\", Tasks,0, None)\n",
    "    dem = LpVariable.dicts(\"dem\", Tasks,0, None)\n",
    "    real = LpVariable.dicts(\"real\", Tasks,0, None)\n",
    "    marge = LpVariable.dicts(\"marge\", Tasks,0, None)\n",
    "    z3 = LpVariable.dicts(\"z3\", ((i,j,k,m) for i in Tasks for j in Tasks for k in Tasks for m in Machine),0,1,LpInteger)\n",
    "    z2 = LpVariable.dicts(\"z2\", ((i,j,m) for i in Tasks for j in Tasks for m in Machine),0,1,LpInteger)\n",
    "    liv = LpVariable.dicts(\"liv\", Tasks,0, None)\n",
    "    W = LpVariable(\"W\", lowBound=0)\n",
    "    \n",
    "    # Contraintes :\n",
    "    for j in Tasks:\n",
    "        \n",
    "        for m in Machine:\n",
    "            model += x[j,j,m] == 0 \n",
    "            \n",
    "        model += lpSum(y[j,m] for m in Machine)==1\n",
    "        model += dem[j] >= disp[j]\n",
    "        model += real[j] == dem[j] + duree[j] \n",
    "        model += W <= marge[j]\n",
    "        model += liv[j] == deb[j] + 30\n",
    "        model += liv[j] <= dmax[j]\n",
    "        model += marge[j] == dmax[j] - liv[j]\n",
    "        model += deb[j] >= real[j]\n",
    "        \n",
    "        for m in Machine:\n",
    "            model += dem[j] >= lpSum(duree[i]*x[i,j,m] for i in Tasks)\n",
    "        \n",
    "        for i in Tasks:\n",
    "            if i != j:\n",
    "                for m in Machine:\n",
    "                    #model += dem[j]>= real[i]-bigM*(1-x[i,j,m])\n",
    "                    model += z2[j,i,m] <= y[i,m]\n",
    "                    model += z2[j,i,m] <= y[j,m]\n",
    "                    model += z2[j,i,m] >= (y[i,m]+y[j,m])-1\n",
    "                    model += z2[j,i,m] >= 0\n",
    "                    model += x[i,j,m]+x[j,i,m]==z2[i,j,m]\n",
    "                    model += x[j,i,m]<=z2[i,j,m]\n",
    "                \n",
    "            for k in Tasks:\n",
    "                if i!=j and i!=k and j!=k:\n",
    "                    for m in Machine : \n",
    "                        model += z3[i,j,k,m] <= y[i,m]\n",
    "                        model += z3[i,j,k,m] <= y[j,m]\n",
    "                        model += z3[i,j,k,m] <= y[k,m]\n",
    "                        model += z3[i,j,k,m] >= (y[i,m]+y[j,m]+y[k,m])-2\n",
    "                        model += z3[i,j,k,m] >= 0\n",
    "                        model += x[i,j,m]+x[j,k,m]-1 <= x[i,k,m]+bigM*(1-z3[i,j,k,m])\n",
    "                \n",
    "    # Objectif : \n",
    "    model+= W \n",
    "    #+0.5*lpSum(mu[i]*a[m]*y[i,m] for i in Tasks for m in Machine)\n",
    "    \n",
    "    #Resolution du PLNE : \n",
    "    starttime=time.time() #Pour avoir le temps d'execution\n",
    "    model.solve(PULP_CBC_CMD(maxSeconds=60))\n",
    "    solveTime=time.time()-starttime\n",
    "    \n",
    "    #Affichage des éléments de résolution\n",
    "    f_val=[]\n",
    "    for i in range(0,len(Tasks)):\n",
    "        f_val.append(model.variables()[i].varValue)\n",
    "    order=np.argsort(f_val)\n",
    "    \n",
    "        \n",
    "    print(\"Temps de résolution = \", solveTime)\n",
    "    print(\"Statut de la solution = \", LpStatus[model.status])\n",
    "    print(\"Valeur optimale = \", value(model.objective))\n",
    "    print(\"Ordre des taches =\",order)\n",
    "    print(\"####################\")\n",
    "    for i in range(len(Tasks)+1):\n",
    "        print(model.variables()[i], model.variables()[i].value())\n",
    "    print(\"####################\")\n",
    "    for i in range(len(Tasks)+1,2*len(Tasks)+1):\n",
    "        print(model.variables()[i], model.variables()[i].value())\n",
    "    print(\"####################\")\n",
    "    for i in range(2*len(Tasks)+1,3*len(Tasks)+1):\n",
    "        print(model.variables()[i], model.variables()[i].value())\n",
    "    print(\"####################\")\n",
    "    for i in range(3*len(Tasks)+1,4*len(Tasks)+1):\n",
    "        print(model.variables()[i], model.variables()[i].value())\n",
    "    print(\"####################\")\n",
    "    for i in range(4*len(Tasks)+1,5*len(Tasks)+1):\n",
    "        print(model.variables()[i], model.variables()[i].value())\n",
    "    print(\"####################\")\n",
    "    for i in range(13*len(Tasks)+1,15*len(Tasks)+1):\n",
    "        print(model.variables()[i], model.variables()[i].value())\n",
    "    return(solveTime,value(model.objective),list(order))"
   ]
  },
  {
   "cell_type": "code",
   "execution_count": 19,
   "metadata": {},
   "outputs": [],
   "source": [
    "a=[12,12]\n",
    "mu=np.random.uniform(0.1,0.7,15)"
   ]
  },
  {
   "cell_type": "code",
   "execution_count": 20,
   "metadata": {},
   "outputs": [
    {
     "name": "stdout",
     "output_type": "stream",
     "text": [
      "Temps de résolution =  30.734593152999878\n",
      "Statut de la solution =  Optimal\n",
      "Valeur optimale =  90.866274\n",
      "Ordre des taches = [ 1  9  8  2 11  0 12 14 10  7 13  5  3  4  6]\n",
      "####################\n",
      "W 90.866274\n",
      "deb_0 6.0570564\n",
      "deb_1 60.133726\n",
      "deb_10 293.6322\n",
      "deb_11 355.19307\n",
      "deb_12 284.22653\n",
      "deb_13 374.25141\n",
      "deb_14 154.38209\n",
      "deb_2 30.839834\n",
      "deb_3 12.101786\n",
      "deb_4 149.16666\n",
      "deb_5 78.157719\n",
      "deb_6 122.23723\n",
      "deb_7 242.66082\n",
      "deb_8 142.22302\n",
      "deb_9 220.64475\n",
      "####################\n",
      "dem_0 0.0\n",
      "dem_1 1.0\n",
      "dem_10 242.66082\n",
      "dem_11 284.22653\n",
      "dem_12 220.64475\n",
      "dem_13 293.6322\n",
      "dem_14 149.16666\n",
      "dem_2 12.101786\n",
      "dem_3 6.0570564\n",
      "dem_4 78.157719\n",
      "dem_5 59.133726\n",
      "dem_6 30.839834\n",
      "dem_7 142.22302\n",
      "dem_8 122.23723\n",
      "dem_9 154.38209\n",
      "####################\n",
      "liv_0 36.057056\n",
      "liv_1 90.133726\n",
      "liv_10 323.6322\n",
      "liv_11 385.19307\n",
      "liv_12 314.22653\n",
      "liv_13 404.25141\n",
      "liv_14 184.38209\n",
      "liv_2 60.839834\n",
      "liv_3 42.101786\n",
      "liv_4 179.16666\n",
      "liv_5 108.15772\n",
      "liv_6 152.23723\n",
      "liv_7 272.66082\n",
      "liv_8 172.22302\n",
      "liv_9 250.64475\n",
      "####################\n",
      "marge_0 114.94294\n",
      "marge_1 90.866274\n",
      "marge_10 131.3678\n",
      "marge_11 99.806931\n",
      "marge_12 201.77347\n",
      "marge_13 141.74859\n",
      "marge_14 392.61791\n",
      "marge_2 151.16017\n",
      "marge_3 200.89821\n",
      "marge_4 93.833342\n",
      "marge_5 195.84228\n",
      "marge_6 181.76277\n",
      "marge_7 92.339175\n",
      "marge_8 223.77698\n",
      "marge_9 173.35525\n",
      "####################\n",
      "real_0 6.0570564\n",
      "real_1 60.133726\n",
      "real_10 293.6322\n",
      "real_11 355.19307\n",
      "real_12 284.22653\n",
      "real_13 374.25141\n",
      "real_14 154.38209\n",
      "real_2 30.839834\n",
      "real_3 12.101786\n",
      "real_4 149.16666\n",
      "real_5 78.157719\n",
      "real_6 122.23723\n",
      "real_7 242.66082\n",
      "real_8 142.22302\n",
      "real_9 220.64475\n",
      "####################\n",
      "x_(12,_0,_0) 0.0\n",
      "x_(12,_0,_1) 0.0\n",
      "x_(12,_1,_0) 0.0\n",
      "x_(12,_1,_1) 0.0\n",
      "x_(12,_10,_0) 0.0\n",
      "x_(12,_10,_1) 0.0\n",
      "x_(12,_11,_0) 0.0\n",
      "x_(12,_11,_1) 1.0\n",
      "x_(12,_12,_0) 0.0\n",
      "x_(12,_12,_1) 0.0\n",
      "x_(12,_13,_0) 0.0\n",
      "x_(12,_13,_1) 0.0\n",
      "x_(12,_14,_0) 0.0\n",
      "x_(12,_14,_1) 0.0\n",
      "x_(12,_2,_0) 0.0\n",
      "x_(12,_2,_1) 0.0\n",
      "x_(12,_3,_0) 0.0\n",
      "x_(12,_3,_1) 0.0\n",
      "x_(12,_4,_0) 0.0\n",
      "x_(12,_4,_1) 0.0\n",
      "x_(12,_5,_0) 0.0\n",
      "x_(12,_5,_1) 0.0\n",
      "x_(12,_6,_0) 0.0\n",
      "x_(12,_6,_1) 0.0\n",
      "x_(12,_7,_0) 0.0\n",
      "x_(12,_7,_1) 0.0\n",
      "x_(12,_8,_0) 0.0\n",
      "x_(12,_8,_1) 0.0\n",
      "x_(12,_9,_0) 0.0\n",
      "x_(12,_9,_1) 0.0\n"
     ]
    },
    {
     "data": {
      "text/plain": [
       "(30.734593152999878,\n",
       " 90.866274,\n",
       " [1, 9, 8, 2, 11, 0, 12, 14, 10, 7, 13, 5, 3, 4, 6])"
      ]
     },
     "execution_count": 20,
     "metadata": {},
     "output_type": "execute_result"
    }
   ],
   "source": [
    "solvePLNEMultiMachines(disp, dmax, duree,2,10**6,mu,a)"
   ]
  },
  {
   "cell_type": "code",
   "execution_count": null,
   "metadata": {},
   "outputs": [],
   "source": []
  },
  {
   "cell_type": "code",
   "execution_count": null,
   "metadata": {},
   "outputs": [],
   "source": []
  }
 ],
 "metadata": {
  "kernelspec": {
   "display_name": "Python 3",
   "language": "python",
   "name": "python3"
  },
  "language_info": {
   "codemirror_mode": {
    "name": "ipython",
    "version": 3
   },
   "file_extension": ".py",
   "mimetype": "text/x-python",
   "name": "python",
   "nbconvert_exporter": "python",
   "pygments_lexer": "ipython3",
   "version": "3.7.6"
  }
 },
 "nbformat": 4,
 "nbformat_minor": 4
}
