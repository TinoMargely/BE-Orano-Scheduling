{
 "cells": [
  {
   "cell_type": "markdown",
   "metadata": {},
   "source": [
    "_Aboa Bouadou, Rose Guionnet, Nathan Laîné, Victor Devys, Tino Margely_"
   ]
  },
  {
   "cell_type": "markdown",
   "metadata": {},
   "source": [
    "## Import Modules"
   ]
  },
  {
   "cell_type": "code",
   "execution_count": 1,
   "metadata": {},
   "outputs": [],
   "source": [
    "import pandas as pd\n",
    "from datetime import datetime, timedelta"
   ]
  },
  {
   "cell_type": "code",
   "execution_count": 2,
   "metadata": {},
   "outputs": [],
   "source": [
    "import numpy as np\n",
    "import math\n",
    "import networkx as nx\n",
    "from networkx.drawing.nx_pydot import graphviz_layout\n",
    "from matplotlib import pyplot as plt\n",
    "import copy\n",
    "import time\n",
    "from pulp import *"
   ]
  },
  {
   "cell_type": "code",
   "execution_count": 3,
   "metadata": {},
   "outputs": [],
   "source": [
    "SECONDS_PER_DAY = 24*60*60"
   ]
  },
  {
   "cell_type": "markdown",
   "metadata": {},
   "source": [
    "## Read Data"
   ]
  },
  {
   "cell_type": "code",
   "execution_count": 4,
   "metadata": {},
   "outputs": [],
   "source": [
    "data = pd.read_excel(\"data/raw/Orano-données-Single.xlsx\", sheet_name=\"Optim\", header=5, usecols=[3,4,5,6,7], nrows=47)"
   ]
  },
  {
   "cell_type": "code",
   "execution_count": 5,
   "metadata": {},
   "outputs": [
    {
     "data": {
      "text/html": [
       "<div>\n",
       "<style scoped>\n",
       "    .dataframe tbody tr th:only-of-type {\n",
       "        vertical-align: middle;\n",
       "    }\n",
       "\n",
       "    .dataframe tbody tr th {\n",
       "        vertical-align: top;\n",
       "    }\n",
       "\n",
       "    .dataframe thead th {\n",
       "        text-align: right;\n",
       "    }\n",
       "</style>\n",
       "<table border=\"1\" class=\"dataframe\">\n",
       "  <thead>\n",
       "    <tr style=\"text-align: right;\">\n",
       "      <th></th>\n",
       "      <th>Commandes</th>\n",
       "      <th>ordre</th>\n",
       "      <th>disp</th>\n",
       "      <th>max</th>\n",
       "      <th>durée</th>\n",
       "    </tr>\n",
       "  </thead>\n",
       "  <tbody>\n",
       "    <tr>\n",
       "      <th>0</th>\n",
       "      <td>c1</td>\n",
       "      <td>1</td>\n",
       "      <td>2021-01-01</td>\n",
       "      <td>2021-06-01</td>\n",
       "      <td>6.057056</td>\n",
       "    </tr>\n",
       "    <tr>\n",
       "      <th>1</th>\n",
       "      <td>c2</td>\n",
       "      <td>2</td>\n",
       "      <td>2021-02-01</td>\n",
       "      <td>2021-08-01</td>\n",
       "      <td>59.133726</td>\n",
       "    </tr>\n",
       "    <tr>\n",
       "      <th>2</th>\n",
       "      <td>c3</td>\n",
       "      <td>3</td>\n",
       "      <td>2021-03-01</td>\n",
       "      <td>2021-10-01</td>\n",
       "      <td>18.738048</td>\n",
       "    </tr>\n",
       "    <tr>\n",
       "      <th>3</th>\n",
       "      <td>c4</td>\n",
       "      <td>4</td>\n",
       "      <td>2021-04-01</td>\n",
       "      <td>2021-12-01</td>\n",
       "      <td>6.044729</td>\n",
       "    </tr>\n",
       "    <tr>\n",
       "      <th>4</th>\n",
       "      <td>c5</td>\n",
       "      <td>5</td>\n",
       "      <td>2021-05-01</td>\n",
       "      <td>2022-02-01</td>\n",
       "      <td>71.008938</td>\n",
       "    </tr>\n",
       "  </tbody>\n",
       "</table>\n",
       "</div>"
      ],
      "text/plain": [
       "  Commandes  ordre       disp        max      durée\n",
       "0        c1      1 2021-01-01 2021-06-01   6.057056\n",
       "1        c2      2 2021-02-01 2021-08-01  59.133726\n",
       "2        c3      3 2021-03-01 2021-10-01  18.738048\n",
       "3        c4      4 2021-04-01 2021-12-01   6.044729\n",
       "4        c5      5 2021-05-01 2022-02-01  71.008938"
      ]
     },
     "execution_count": 5,
     "metadata": {},
     "output_type": "execute_result"
    }
   ],
   "source": [
    "data.head()"
   ]
  },
  {
   "cell_type": "code",
   "execution_count": 6,
   "metadata": {},
   "outputs": [
    {
     "data": {
      "text/plain": [
       "datetime.datetime(2021, 1, 1, 0, 0)"
      ]
     },
     "execution_count": 6,
     "metadata": {},
     "output_type": "execute_result"
    }
   ],
   "source": [
    "data['disp'].min().to_pydatetime()"
   ]
  },
  {
   "cell_type": "markdown",
   "metadata": {},
   "source": [
    "# Convert Excel to problem data"
   ]
  },
  {
   "cell_type": "code",
   "execution_count": 7,
   "metadata": {},
   "outputs": [],
   "source": [
    "def dataframe_to_list(data):\n",
    "    dataframe = data.copy()\n",
    "    #dataframe = dataframe\n",
    "    min_date = dataframe['disp'].min().to_pydatetime()\n",
    "    dataframe['disp'] = dataframe['disp'].apply(lambda x: (x.to_pydatetime()- min_date).total_seconds()/SECONDS_PER_DAY)\n",
    "    dataframe['max'] = dataframe['max'].apply(lambda x: (x.to_pydatetime()-min_date).total_seconds()/SECONDS_PER_DAY)\n",
    "    dataframe['durée'] = dataframe['durée']\n",
    "    \n",
    "    return(list(dataframe['disp']),list(dataframe['max']),list(dataframe['durée']))"
   ]
  },
  {
   "cell_type": "code",
   "execution_count": 8,
   "metadata": {},
   "outputs": [],
   "source": [
    "n = 15\n",
    "disp, dmax, duree = dataframe_to_list(data)\n",
    "disp, dmax, duree = disp[:n], dmax[:n], duree[:n]"
   ]
  },
  {
   "cell_type": "code",
   "execution_count": 9,
   "metadata": {},
   "outputs": [
    {
     "name": "stdout",
     "output_type": "stream",
     "text": [
      "Disp :  [0.0, 31.0, 59.0, 90.0, 120.0] ...\n",
      "Max :  [151.0, 212.0, 273.0, 334.0, 396.0] ...\n",
      "Durée :  [6.057056413817744, 59.13372606760222, 18.738048272122583, 6.044729107183509, 71.0089381707361] ...\n"
     ]
    }
   ],
   "source": [
    "print(\"Disp : \" , disp[:5], \"...\")\n",
    "print(\"Max : \" , dmax[:5], \"...\")\n",
    "print(\"Durée : \" , duree[:5], \"...\")"
   ]
  },
  {
   "cell_type": "code",
   "execution_count": 10,
   "metadata": {},
   "outputs": [],
   "source": [
    "def isFeasible(disp, dmax, duree):\n",
    "    time = sum(duree)\n",
    "    date_max_max = max(dmax)\n",
    "    print(\"time sum : \", time)\n",
    "    print(\"Date Max max : \", date_max_max)"
   ]
  },
  {
   "cell_type": "code",
   "execution_count": 11,
   "metadata": {},
   "outputs": [
    {
     "name": "stdout",
     "output_type": "stream",
     "text": [
      "time sum :  729.4444821614793\n",
      "Date Max max :  1003.0\n"
     ]
    }
   ],
   "source": [
    "isFeasible(disp, dmax, duree)"
   ]
  },
  {
   "cell_type": "markdown",
   "metadata": {},
   "source": [
    "## Première résolution"
   ]
  },
  {
   "cell_type": "code",
   "execution_count": 12,
   "metadata": {},
   "outputs": [],
   "source": [
    "def solvePLNE(disp, dmax, duree):\n",
    "    \n",
    "    Tasks= list(range(len(disp))) #Liste des taches\n",
    "    print(\"Tasks : \", Tasks)\n",
    "    M = 100000\n",
    "    \n",
    "    model = LpProblem(\"Orano\", LpMaximize)\n",
    "    \n",
    "    # Variables \n",
    "    x = LpVariable.dicts(\"x\", ((i, j) for i in Tasks for j in Tasks),0,1,LpInteger) #x_{i,j}=1 si i est usinée avant j\n",
    "    deb = LpVariable.dicts(\"deb\", Tasks,0, None)\n",
    "    dem = LpVariable.dicts(\"dem\", Tasks,0, None)\n",
    "    real = LpVariable.dicts(\"real\", Tasks,0, None)\n",
    "    marge = LpVariable.dicts(\"marge\", Tasks,0, None)\n",
    "    liv = LpVariable.dicts(\"liv\", Tasks,0, None)\n",
    "    z = LpVariable(\"z\", lowBound=0)\n",
    "    \n",
    "    # Contraintes :\n",
    "    for j in Tasks:\n",
    "        model += x[j,j] == 0\n",
    "        model += dem[j] >= disp[j]\n",
    "        model += real[j] == dem[j] + duree[j]\n",
    "        #\n",
    "        for i in Tasks:\n",
    "            if i!=j:\n",
    "                model += dem[j] >= real[i] - M*(1-x[i,j]) \n",
    "        #model += dem[j] >= lpSum(duree[i]*x[i,j] for i in Tasks)\n",
    "        model += liv[j] == deb[j] + 30\n",
    "        model += liv[j] <= dmax[j]\n",
    "        model += marge[j] == dmax[j] - liv[j]\n",
    "        model += deb[j] >= real[j]\n",
    "        model += z <= marge[j]\n",
    "        for i in Tasks:\n",
    "            if i != j:\n",
    "                model += x[j,i] + x[i,j] == 1 \n",
    "            \n",
    "            for k in Tasks:\n",
    "                if i!=j and i!=k and j!=k:\n",
    "                    model += x[i,k] >= x[i,j] + x[j,k] - 1\n",
    "    \n",
    "    \n",
    "    # Objectif : \n",
    "    model += z  \n",
    "    \n",
    "    #Resolution du PLNE : \n",
    "    starttime=time.time() #Pour avoir le temps d'execution\n",
    "    #model.solve(PULP_CBC_CMD(maxSeconds=15))\n",
    "    model.solve(PULP_CBC_CMD())\n",
    "    solveTime=time.time()-starttime\n",
    "    \n",
    "    #Affichage des éléments de résolution\n",
    "    f_val=[]\n",
    "    for i in range(0,len(Tasks)):\n",
    "        f_val.append(model.variables()[i].varValue)\n",
    "    order=np.argsort(f_val)\n",
    "    \n",
    "        \n",
    "    print(\"Temps de résolution = \", solveTime)\n",
    "    print(\"Statut de la solution = \", LpStatus[model.status])\n",
    "    print(\"Valeur optimale = \", value(model.objective))\n",
    "    print(\"Ordre des taches =\",order)\n",
    "    for i in range(len(Tasks)):\n",
    "        print(model.variables()[i], model.variables()[i].value())\n",
    "    for i in range(len(Tasks),2*len(Tasks)):\n",
    "        print(model.variables()[i], model.variables()[i].value())\n",
    "    for i in range(2*len(Tasks),3*len(Tasks)):\n",
    "        print(model.variables()[i], model.variables()[i].value())\n",
    "\n",
    "    return(solveTime,value(model.objective),list(order))"
   ]
  },
  {
   "cell_type": "code",
   "execution_count": 13,
   "metadata": {},
   "outputs": [
    {
     "name": "stdout",
     "output_type": "stream",
     "text": [
      "Tasks :  [0, 1, 2, 3, 4, 5, 6, 7, 8, 9, 10, 11, 12, 13, 14]\n",
      "Temps de résolution =  0.20714259147644043\n",
      "Statut de la solution =  Optimal\n",
      "Valeur optimale =  91.866274\n",
      "Ordre des taches = [ 0  1  7  8  9 11 13 10 12  2 14  3  6  4  5]\n",
      "deb_0 6.0570564\n",
      "deb_1 90.133726\n",
      "deb_10 472.8253\n",
      "deb_11 610.0545\n",
      "deb_12 678.85171\n",
      "deb_13 759.47092\n",
      "deb_14 615.26993\n",
      "deb_2 108.87177\n",
      "deb_3 114.9165\n",
      "deb_4 191.00894\n",
      "deb_5 321.41612\n",
      "deb_6 282.40633\n",
      "deb_7 421.85392\n",
      "deb_8 302.39212\n",
      "deb_9 539.08797\n",
      "dem_0 0.0\n",
      "dem_1 31.0\n",
      "dem_10 421.85392\n",
      "dem_11 539.08797\n",
      "dem_12 615.26993\n",
      "dem_13 678.85171\n",
      "dem_14 610.0545\n",
      "dem_2 90.133726\n",
      "dem_3 108.87177\n",
      "dem_4 120.0\n",
      "dem_5 302.39212\n",
      "dem_6 191.00894\n",
      "dem_7 321.41612\n",
      "dem_8 282.40633\n",
      "dem_9 472.8253\n",
      "liv_0 36.057056\n",
      "liv_1 120.13373\n",
      "liv_10 502.8253\n",
      "liv_11 640.0545\n",
      "liv_12 708.85171\n",
      "liv_13 789.47092\n",
      "liv_14 645.26993\n",
      "liv_2 138.87177\n",
      "liv_3 144.9165\n",
      "liv_4 221.00894\n",
      "liv_5 351.41612\n",
      "liv_6 312.40633\n",
      "liv_7 451.85392\n",
      "liv_8 332.39212\n",
      "liv_9 569.08797\n"
     ]
    },
    {
     "data": {
      "text/plain": [
       "(0.20714259147644043,\n",
       " 91.866274,\n",
       " [0, 1, 7, 8, 9, 11, 13, 10, 12, 2, 14, 3, 6, 4, 5])"
      ]
     },
     "execution_count": 13,
     "metadata": {},
     "output_type": "execute_result"
    }
   ],
   "source": [
    "solvePLNE(disp, dmax, duree)"
   ]
  },
  {
   "cell_type": "markdown",
   "metadata": {},
   "source": [
    "[0 1 2 5 3 4 8 6 7 9]\n",
    "\n",
    "[0 1 2 3 8 4 6 5 7 9]"
   ]
  },
  {
   "cell_type": "code",
   "execution_count": null,
   "metadata": {},
   "outputs": [],
   "source": []
  }
 ],
 "metadata": {
  "kernelspec": {
   "display_name": "Python 3",
   "language": "python",
   "name": "python3"
  },
  "language_info": {
   "codemirror_mode": {
    "name": "ipython",
    "version": 3
   },
   "file_extension": ".py",
   "mimetype": "text/x-python",
   "name": "python",
   "nbconvert_exporter": "python",
   "pygments_lexer": "ipython3",
   "version": "3.7.6"
  }
 },
 "nbformat": 4,
 "nbformat_minor": 4
}
