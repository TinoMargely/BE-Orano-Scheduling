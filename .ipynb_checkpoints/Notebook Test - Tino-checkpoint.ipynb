{
 "cells": [
  {
   "cell_type": "markdown",
   "metadata": {},
   "source": [
    "_Aboa Bouadou, Rose Guionnet, Nathan Laîné, Victor Devys, Tino Margely_"
   ]
  },
  {
   "cell_type": "markdown",
   "metadata": {},
   "source": [
    "## Import Modules"
   ]
  },
  {
   "cell_type": "code",
   "execution_count": 1,
   "metadata": {},
   "outputs": [],
   "source": [
    "import pandas as pd\n",
    "from datetime import datetime, timedelta"
   ]
  },
  {
   "cell_type": "code",
   "execution_count": 2,
   "metadata": {},
   "outputs": [],
   "source": [
    "import pandas as pd\n",
    "from datetime import datetime, timedelta\n",
    "import numpy as np\n",
    "import math\n",
    "import networkx as nx\n",
    "from networkx.drawing.nx_pydot import graphviz_layout\n",
    "from matplotlib import pyplot as plt\n",
    "import copy\n",
    "import time\n",
    "from pulp import *\n",
    "import matplotlib.patches as patches\n",
    "import matplotlib.colors as mcolors\n",
    "import seaborn as sns"
   ]
  },
  {
   "cell_type": "code",
   "execution_count": 3,
   "metadata": {},
   "outputs": [],
   "source": [
    "SECONDS_PER_DAY = 24*60*60"
   ]
  },
  {
   "cell_type": "markdown",
   "metadata": {},
   "source": [
    "## Read Data"
   ]
  },
  {
   "cell_type": "code",
   "execution_count": 4,
   "metadata": {},
   "outputs": [],
   "source": [
    "data = pd.read_excel(\"data/raw/Orano-données-Single.xlsx\", sheet_name=\"Optim\", header=5, usecols=[3,4,5,6,7], nrows=47)"
   ]
  },
  {
   "cell_type": "code",
   "execution_count": 5,
   "metadata": {},
   "outputs": [
    {
     "data": {
      "text/html": [
       "<div>\n",
       "<style scoped>\n",
       "    .dataframe tbody tr th:only-of-type {\n",
       "        vertical-align: middle;\n",
       "    }\n",
       "\n",
       "    .dataframe tbody tr th {\n",
       "        vertical-align: top;\n",
       "    }\n",
       "\n",
       "    .dataframe thead th {\n",
       "        text-align: right;\n",
       "    }\n",
       "</style>\n",
       "<table border=\"1\" class=\"dataframe\">\n",
       "  <thead>\n",
       "    <tr style=\"text-align: right;\">\n",
       "      <th></th>\n",
       "      <th>Commandes</th>\n",
       "      <th>ordre</th>\n",
       "      <th>disp</th>\n",
       "      <th>max</th>\n",
       "      <th>durée</th>\n",
       "    </tr>\n",
       "  </thead>\n",
       "  <tbody>\n",
       "    <tr>\n",
       "      <th>0</th>\n",
       "      <td>c1</td>\n",
       "      <td>1</td>\n",
       "      <td>2021-01-01</td>\n",
       "      <td>2021-06-01</td>\n",
       "      <td>6.057056</td>\n",
       "    </tr>\n",
       "    <tr>\n",
       "      <th>1</th>\n",
       "      <td>c2</td>\n",
       "      <td>2</td>\n",
       "      <td>2021-02-01</td>\n",
       "      <td>2021-08-01</td>\n",
       "      <td>59.133726</td>\n",
       "    </tr>\n",
       "    <tr>\n",
       "      <th>2</th>\n",
       "      <td>c3</td>\n",
       "      <td>3</td>\n",
       "      <td>2021-03-01</td>\n",
       "      <td>2021-10-01</td>\n",
       "      <td>18.738048</td>\n",
       "    </tr>\n",
       "    <tr>\n",
       "      <th>3</th>\n",
       "      <td>c4</td>\n",
       "      <td>4</td>\n",
       "      <td>2021-04-01</td>\n",
       "      <td>2021-12-01</td>\n",
       "      <td>6.044729</td>\n",
       "    </tr>\n",
       "    <tr>\n",
       "      <th>4</th>\n",
       "      <td>c5</td>\n",
       "      <td>5</td>\n",
       "      <td>2021-05-01</td>\n",
       "      <td>2022-02-01</td>\n",
       "      <td>71.008938</td>\n",
       "    </tr>\n",
       "  </tbody>\n",
       "</table>\n",
       "</div>"
      ],
      "text/plain": [
       "  Commandes  ordre       disp        max      durée\n",
       "0        c1      1 2021-01-01 2021-06-01   6.057056\n",
       "1        c2      2 2021-02-01 2021-08-01  59.133726\n",
       "2        c3      3 2021-03-01 2021-10-01  18.738048\n",
       "3        c4      4 2021-04-01 2021-12-01   6.044729\n",
       "4        c5      5 2021-05-01 2022-02-01  71.008938"
      ]
     },
     "execution_count": 5,
     "metadata": {},
     "output_type": "execute_result"
    }
   ],
   "source": [
    "data.head()"
   ]
  },
  {
   "cell_type": "code",
   "execution_count": 6,
   "metadata": {},
   "outputs": [
    {
     "data": {
      "text/plain": [
       "datetime.datetime(2021, 1, 1, 0, 0)"
      ]
     },
     "execution_count": 6,
     "metadata": {},
     "output_type": "execute_result"
    }
   ],
   "source": [
    "data['disp'].min().to_pydatetime()"
   ]
  },
  {
   "cell_type": "markdown",
   "metadata": {},
   "source": [
    "# Convert Excel to problem data"
   ]
  },
  {
   "cell_type": "code",
   "execution_count": 7,
   "metadata": {},
   "outputs": [],
   "source": [
    "min_date = data['disp'].min().to_pydatetime()"
   ]
  },
  {
   "cell_type": "code",
   "execution_count": 8,
   "metadata": {},
   "outputs": [
    {
     "data": {
      "text/plain": [
       "'13/01/2021-15:41'"
      ]
     },
     "execution_count": 8,
     "metadata": {},
     "output_type": "execute_result"
    }
   ],
   "source": [
    "(min_date + timedelta(12.6541)).strftime(\"%d/%m/%Y-%H:%M\")"
   ]
  },
  {
   "cell_type": "code",
   "execution_count": 9,
   "metadata": {},
   "outputs": [],
   "source": [
    "def dataframe_to_list(data, min_date):\n",
    "    dataframe = data.copy()\n",
    "    #dataframe = dataframe\n",
    "    dataframe['disp'] = dataframe['disp'].apply(lambda x: (x.to_pydatetime()- min_date).total_seconds()/SECONDS_PER_DAY)\n",
    "    dataframe['max'] = dataframe['max'].apply(lambda x: (x.to_pydatetime()-min_date).total_seconds()/SECONDS_PER_DAY)\n",
    "    dataframe['durée'] = dataframe['durée']\n",
    "    \n",
    "    return(list(dataframe['disp']),list(dataframe['max']),list(dataframe['durée']))"
   ]
  },
  {
   "cell_type": "code",
   "execution_count": 10,
   "metadata": {},
   "outputs": [],
   "source": [
    "def scalar_to_day(scalar, min_date):\n",
    "    return (min_date+timedelta(scalar)).strftime(\"%d/%m/%Y-%H:%M\")"
   ]
  },
  {
   "cell_type": "code",
   "execution_count": 11,
   "metadata": {},
   "outputs": [],
   "source": [
    "n = 15\n",
    "disp, dmax, duree = dataframe_to_list(data, min_date)\n",
    "disp, dmax, duree = disp[:n], dmax[:n], duree[:n]"
   ]
  },
  {
   "cell_type": "code",
   "execution_count": 12,
   "metadata": {},
   "outputs": [
    {
     "name": "stdout",
     "output_type": "stream",
     "text": [
      "Disp :  [0.0, 31.0, 59.0, 90.0, 120.0] ...\n",
      "Max :  [151.0, 212.0, 273.0, 334.0, 396.0] ...\n",
      "Durée :  [6.057056413817744, 59.13372606760222, 18.738048272122583, 6.044729107183509, 71.0089381707361] ...\n"
     ]
    }
   ],
   "source": [
    "print(\"Disp : \" , disp[:5], \"...\")\n",
    "print(\"Max : \" , dmax[:5], \"...\")\n",
    "print(\"Durée : \" , duree[:5], \"...\")"
   ]
  },
  {
   "cell_type": "code",
   "execution_count": 13,
   "metadata": {},
   "outputs": [],
   "source": [
    "def isFeasible(disp, dmax, duree):\n",
    "    time = sum(duree)\n",
    "    date_max_max = max(dmax)\n",
    "    print(\"time sum : \", time)\n",
    "    print(\"Date Max max : \", date_max_max)"
   ]
  },
  {
   "cell_type": "code",
   "execution_count": 14,
   "metadata": {},
   "outputs": [
    {
     "name": "stdout",
     "output_type": "stream",
     "text": [
      "time sum :  729.4444821614793\n",
      "Date Max max :  1003.0\n"
     ]
    }
   ],
   "source": [
    "isFeasible(disp, dmax, duree)"
   ]
  },
  {
   "cell_type": "markdown",
   "metadata": {},
   "source": [
    "## Première résolution"
   ]
  },
  {
   "cell_type": "code",
   "execution_count": 15,
   "metadata": {},
   "outputs": [],
   "source": [
    "def solvePLNE(disp, dmax, duree):\n",
    "    \n",
    "    Tasks= list(range(len(disp))) #Liste des taches\n",
    "    print(\"Tasks : \", Tasks)\n",
    "    M = 100000\n",
    "    \n",
    "    model = LpProblem(\"Orano\", LpMaximize)\n",
    "    \n",
    "    # Variables \n",
    "    x = LpVariable.dicts(\"x\", ((i, j) for i in Tasks for j in Tasks),0,1,LpInteger) #x_{i,j}=1 si i est usinée avant j\n",
    "    deb = LpVariable.dicts(\"deb\", Tasks,0, None)\n",
    "    dem = LpVariable.dicts(\"dem\", Tasks,0, None)\n",
    "    real = LpVariable.dicts(\"real\", Tasks,0, None)\n",
    "    marge = LpVariable.dicts(\"marge\", Tasks,0, None)\n",
    "    liv = LpVariable.dicts(\"liv\", Tasks,0, None)\n",
    "    z = LpVariable(\"z\", lowBound=0)\n",
    "    \n",
    "    # Contraintes :\n",
    "    for j in Tasks:\n",
    "        model += x[j,j] == 0\n",
    "        model += dem[j] >= disp[j]\n",
    "        model += real[j] == dem[j] + duree[j]\n",
    "        #\n",
    "        #for i in Tasks:\n",
    "        #    if i!=j:\n",
    "        #        model += dem[j] >= real[i] - M*(1-x[i,j]) \n",
    "        model += dem[j] >= lpSum(duree[i]*x[i,j] for i in Tasks)\n",
    "        model += liv[j] == deb[j] + 30\n",
    "        model += liv[j] <= dmax[j]\n",
    "        model += marge[j] == dmax[j] - liv[j]\n",
    "        model += deb[j] >= real[j]\n",
    "        model += z <= marge[j]\n",
    "        for i in Tasks:\n",
    "            if i != j:\n",
    "                model += x[j,i] + x[i,j] == 1 \n",
    "            \n",
    "            for k in Tasks:\n",
    "                if i!=j and i!=k and j!=k:\n",
    "                    model += x[i,k] >= x[i,j] + x[j,k] - 1\n",
    "    \n",
    "    \n",
    "    # Objectif : \n",
    "    model += z  \n",
    "    \n",
    "    #Resolution du PLNE : \n",
    "    starttime=time.time() #Pour avoir le temps d'execution\n",
    "    #model.solve(PULP_CBC_CMD(maxSeconds=15))\n",
    "    model.solve(PULP_CBC_CMD())\n",
    "    solveTime=time.time()-starttime\n",
    "    \n",
    "    #Affichage des éléments de résolution\n",
    "    f_val=[]\n",
    "    for i in range(0,len(Tasks)):\n",
    "        f_val.append(model.variables()[i].varValue)\n",
    "    order=np.argsort(f_val)\n",
    "    \n",
    "        \n",
    "    print(\"Temps de résolution = \", solveTime)\n",
    "    print(\"Statut de la solution = \", LpStatus[model.status])\n",
    "    print(\"Valeur optimale = \", value(model.objective))\n",
    "    print(\"Ordre des taches =\",order)\n",
    "    for i in range(len(Tasks)):\n",
    "        print(model.variables()[i], model.variables()[i].value())\n",
    "    for i in range(len(Tasks),2*len(Tasks)):\n",
    "        print(model.variables()[i], model.variables()[i].value())\n",
    "    for i in range(2*len(Tasks),3*len(Tasks)):\n",
    "        print(model.variables()[i], model.variables()[i].value())\n",
    "\n",
    "    return(solveTime,value(model.objective),list(order))"
   ]
  },
  {
   "cell_type": "code",
   "execution_count": 16,
   "metadata": {},
   "outputs": [
    {
     "name": "stdout",
     "output_type": "stream",
     "text": [
      "Tasks :  [0, 1, 2, 3, 4, 5, 6, 7, 8, 9, 10, 11, 12, 13, 14]\n",
      "Temps de résolution =  0.18204140663146973\n",
      "Statut de la solution =  Optimal\n",
      "Valeur optimale =  91.866274\n",
      "Ordre des taches = [ 0  7  1  8 10  9 11 12  6 14 13  3  2  5  4]\n",
      "deb_0 24.795105\n",
      "deb_1 90.133726\n",
      "deb_10 585.24349\n",
      "deb_11 534.27211\n",
      "deb_12 729.44448\n",
      "deb_13 665.8627\n",
      "deb_14 429.21543\n",
      "deb_2 77.738048\n",
      "deb_3 160.9825\n",
      "deb_4 191.00894\n",
      "deb_5 180.00649\n",
      "deb_6 272.39739\n",
      "deb_7 371.84169\n",
      "deb_8 463.30558\n",
      "deb_9 443.31978\n",
      "dem_0 18.738048\n",
      "dem_1 31.0\n",
      "dem_10 534.27211\n",
      "dem_11 463.30558\n",
      "dem_12 665.8627\n",
      "dem_13 585.24349\n",
      "dem_14 424.0\n",
      "dem_2 59.0\n",
      "dem_3 154.93777\n",
      "dem_4 120.0\n",
      "dem_5 160.9825\n",
      "dem_6 181.0\n",
      "dem_7 271.40388\n",
      "dem_8 443.31978\n",
      "dem_9 377.05712\n",
      "liv_0 54.795105\n",
      "liv_1 120.13373\n",
      "liv_10 615.24349\n",
      "liv_11 564.27211\n",
      "liv_12 759.44448\n",
      "liv_13 695.8627\n",
      "liv_14 459.21543\n",
      "liv_2 107.73805\n",
      "liv_3 190.9825\n",
      "liv_4 221.00894\n",
      "liv_5 210.00649\n",
      "liv_6 302.39739\n",
      "liv_7 401.84169\n",
      "liv_8 493.30558\n",
      "liv_9 473.31978\n"
     ]
    },
    {
     "data": {
      "text/plain": [
       "(0.18204140663146973,\n",
       " 91.866274,\n",
       " [0, 7, 1, 8, 10, 9, 11, 12, 6, 14, 13, 3, 2, 5, 4])"
      ]
     },
     "execution_count": 16,
     "metadata": {},
     "output_type": "execute_result"
    }
   ],
   "source": [
    "solvePLNE(disp, dmax, duree)"
   ]
  },
  {
   "cell_type": "markdown",
   "metadata": {},
   "source": [
    "[0 1 2 5 3 4 8 6 7 9]\n",
    "\n",
    "[0 1 2 3 8 4 6 5 7 9]"
   ]
  },
  {
   "cell_type": "markdown",
   "metadata": {},
   "source": [
    "# Multi Machines"
   ]
  },
  {
   "cell_type": "code",
   "execution_count": 17,
   "metadata": {},
   "outputs": [],
   "source": [
    "data = pd.read_excel(\"data/raw/Orano-données-Double.xlsx\", sheet_name=\"Optim\", header=5, usecols=[3,4,5,6,7], nrows=47)"
   ]
  },
  {
   "cell_type": "code",
   "execution_count": 18,
   "metadata": {},
   "outputs": [],
   "source": [
    "n = 15\n",
    "disp, dmax, duree = dataframe_to_list(data, min_date)\n",
    "disp, dmax, duree = disp[:n], dmax[:n], duree[:n]"
   ]
  },
  {
   "cell_type": "code",
   "execution_count": 19,
   "metadata": {},
   "outputs": [
    {
     "name": "stdout",
     "output_type": "stream",
     "text": [
      "Disp :  [0.0, 1.0, 2.0, 3.0, 4.0] ...\n",
      "Max :  [151.0, 181.0, 212.0, 243.0, 273.0] ...\n",
      "Durée :  [6.057056413817744, 59.13372606760222, 18.738048272122583, 6.044729107183509, 71.0089381707361] ...\n"
     ]
    }
   ],
   "source": [
    "print(\"Disp : \" , disp[:5], \"...\")\n",
    "print(\"Max : \" , dmax[:5], \"...\")\n",
    "print(\"Durée : \" , duree[:5], \"...\")"
   ]
  },
  {
   "cell_type": "code",
   "execution_count": 20,
   "metadata": {},
   "outputs": [
    {
     "name": "stdout",
     "output_type": "stream",
     "text": [
      "time sum :  729.4444821614793\n",
      "Date Max max :  577.0\n"
     ]
    }
   ],
   "source": [
    "isFeasible(disp, dmax, duree)"
   ]
  },
  {
   "cell_type": "code",
   "execution_count": 21,
   "metadata": {},
   "outputs": [],
   "source": [
    "def solvePLNEMultiMachines(disp, dmax, duree,M,bigM,mu,a):    \n",
    "    \n",
    "    Tasks=range(len(disp)) #Liste des taches \n",
    "    Machine=range(M)\n",
    "    \n",
    "    model = LpProblem(\"Orano\", LpMaximize)\n",
    "    \n",
    "    # Variables \n",
    "    y = LpVariable.dicts(\"y\",((i,m) for i in Tasks for m in Machine),0,1,LpInteger) #y_{i}^m si i est usinée sur la machine m\n",
    "    x = LpVariable.dicts(\"x\", ((i,j,m) for i in Tasks for j in Tasks for m in Machine),0,1,LpInteger) #x_{i,j}^m=1 si i est usinée avant j\n",
    "    deb = LpVariable.dicts(\"deb\", Tasks,0, None)\n",
    "    dem = LpVariable.dicts(\"dem\", Tasks,0, None)\n",
    "    real = LpVariable.dicts(\"real\", Tasks,0, None)\n",
    "    marge = LpVariable.dicts(\"marge\", Tasks,0, None)\n",
    "    z3 = LpVariable.dicts(\"z3\", ((i,j,k,m) for i in Tasks for j in Tasks for k in Tasks for m in Machine),0,1,LpInteger)\n",
    "    z2 = LpVariable.dicts(\"z2\", ((i,j,m) for i in Tasks for j in Tasks for m in Machine),0,1,LpInteger)\n",
    "    liv = LpVariable.dicts(\"liv\", Tasks,0, None)\n",
    "    W = LpVariable(\"W\", lowBound=0)\n",
    "    \n",
    "    # Contraintes :\n",
    "    for j in Tasks:\n",
    "        \n",
    "        for m in Machine:\n",
    "            model += x[j,j,m] == 0 \n",
    "            \n",
    "        model += lpSum(y[j,m] for m in Machine)==1\n",
    "        model += dem[j] >= disp[j]\n",
    "        model += real[j] == dem[j] + duree[j] \n",
    "        model += W <= marge[j]\n",
    "        model += liv[j] == deb[j] + 30\n",
    "        model += liv[j] <= dmax[j]\n",
    "        model += marge[j] == dmax[j] - liv[j]\n",
    "        model += deb[j] >= real[j]\n",
    "        \n",
    "        #for m in Machine:\n",
    "        #    model += dem[j] >= lpSum(duree[i]*x[i,j,m] for i in Tasks)\n",
    "        \n",
    "        for i in Tasks:\n",
    "            if i != j:\n",
    "                for m in Machine:\n",
    "                    \n",
    "                    model += dem[j]>= real[i]-bigM*(1-x[i,j,m])\n",
    "                    model += z2[j,i,m] <= y[i,m]\n",
    "                    model += z2[j,i,m] <= y[j,m]\n",
    "                    model += z2[j,i,m] >= (y[i,m]+y[j,m])-1\n",
    "                    model += z2[j,i,m] >= 0\n",
    "                    model += x[i,j,m]+x[j,i,m]==z2[i,j,m]\n",
    "                    model += x[j,i,m]<=z2[i,j,m]\n",
    "                \n",
    "            for k in Tasks:\n",
    "                if i!=j and i!=k and j!=k:\n",
    "                    for m in Machine : \n",
    "                        model += z3[i,j,k,m] <= y[i,m]\n",
    "                        model += z3[i,j,k,m] <= y[j,m]\n",
    "                        model += z3[i,j,k,m] <= y[k,m]\n",
    "                        model += z3[i,j,k,m] >= (y[i,m]+y[j,m]+y[k,m])-2\n",
    "                        model += z3[i,j,k,m] >= 0\n",
    "                        model += x[i,j,m]+x[j,k,m]-1 <= x[i,k,m]+bigM*(1-z3[i,j,k,m])\n",
    "                \n",
    "    # Objectif : \n",
    "    model+= W +0.5*lpSum(mu[i]*a[m]*y[i,m] for i in Tasks for m in Machine)\n",
    "    \n",
    "    #Resolution du PLNE : \n",
    "    starttime=time.time() #Pour avoir le temps d'execution\n",
    "    model.solve(PULP_CBC_CMD(maxSeconds=120))\n",
    "    solveTime=time.time()-starttime\n",
    "    \n",
    "    #Affichage des éléments de résolution\n",
    "    f_val=[]\n",
    "    for i in range(0,len(Tasks)):\n",
    "        f_val.append(model.variables()[i].varValue)\n",
    "    order=np.argsort(f_val)\n",
    "    \n",
    "    print(\"Temps de résolution = \", solveTime)\n",
    "    print(\"Statut de la solution = \", LpStatus[model.status])\n",
    "    print(\"Valeur optimale = \", value(model.objective))\n",
    "    return(solveTime,value(model.objective),model.variables())"
   ]
  },
  {
   "cell_type": "code",
   "execution_count": 22,
   "metadata": {},
   "outputs": [],
   "source": [
    "data = pd.read_excel(\"data/raw/Orano-données-Double.xlsx\", sheet_name=\"Optim\", header=5, usecols=[3,4,5,6,7], nrows=47)\n",
    "n = 10\n",
    "disp, dmax, duree = dataframe_to_list(data, min_date)\n",
    "disp, dmax, duree = disp[:n], dmax[:n], duree[:n]"
   ]
  },
  {
   "cell_type": "code",
   "execution_count": 23,
   "metadata": {},
   "outputs": [
    {
     "name": "stdout",
     "output_type": "stream",
     "text": [
      "Temps de résolution =  17.186018228530884\n",
      "Statut de la solution =  Optimal\n",
      "Valeur optimale =  103.56183229926377\n"
     ]
    }
   ],
   "source": [
    "a=[12,-8]\n",
    "np.random.seed(15)\n",
    "mu=np.random.uniform(0.1,0.7,n)\n",
    "[t,price,var]=solvePLNEMultiMachines(disp, dmax, duree,2,10**6,mu,a)"
   ]
  },
  {
   "cell_type": "markdown",
   "metadata": {},
   "source": [
    "# Affichage des solutions"
   ]
  },
  {
   "cell_type": "code",
   "execution_count": 24,
   "metadata": {},
   "outputs": [],
   "source": [
    "def getValues(var,M):\n",
    "    \n",
    "    Tasks=range(len(disp))  \n",
    "  \n",
    "    varsdict = {}\n",
    "    for v in var:\n",
    "        varsdict[v.name] = v.varValue\n",
    "\n",
    "    dem=[\"dem_{}\".format(i) for i in range(len(Tasks))]\n",
    "    demVal=[varsdict[dem[i]] for i in range(len(dem))]\n",
    "    deb=[\"deb_{}\".format(i) for i in range(len(Tasks))]\n",
    "    debVal=[varsdict[deb[i]] for i in range(len(dem))]\n",
    "    liv=[\"liv_{}\".format(i) for i in range(len(Tasks))]\n",
    "    livVal=[varsdict[liv[i]] for i in range(len(dem))]\n",
    "    marge=[\"marge_{}\".format(i) for i in range(len(Tasks))]\n",
    "    margeVal=[varsdict[marge[i]] for i in range(len(dem))]\n",
    "    real=[\"real_{}\".format(i) for i in range(len(Tasks))]\n",
    "    realVal=[varsdict[real[i]] for i in range(len(dem))]\n",
    "    y=[('y_('+str(i)+',_'+str(j)+')') for i in range(len(Tasks)) for j in range(M)]\n",
    "\n",
    "    machine=[[] for m in range(M)]\n",
    "    real2=[[] for m in range(M)]\n",
    "    dem2=[[] for m in range(M)]\n",
    "    deb2=[[] for m in range(M)]\n",
    "    liv2=[[] for m in range(M)]\n",
    "\n",
    "    for task in range(len(Tasks)):\n",
    "        for m in range(M): \n",
    "            if(varsdict[('y_('+str(task)+',_'+str(m)+')')]==1):\n",
    "                machine[m].append(task)\n",
    "                real2[m].append(realVal[task])\n",
    "                dem2[m].append(demVal[task])\n",
    "                deb2[m].append(debVal[task])\n",
    "                liv2[m].append(livVal[task])\n",
    "                break\n",
    "                \n",
    "    return(demVal,debVal,livVal,realVal,real2,dem2,deb2,liv2,machine)"
   ]
  },
  {
   "cell_type": "code",
   "execution_count": 25,
   "metadata": {},
   "outputs": [],
   "source": [
    "def showEDT(machine,deb2,dem2,real2,liv2):\n",
    "    print('PLANIFICATION :')     \n",
    "    for m in range(len(machine)):\n",
    "        \n",
    "        deb=dict(zip(machine[m],deb2[m]))\n",
    "        dem=dict(zip(machine[m],dem2[m]))\n",
    "        real=dict(zip(machine[m],real2[m]))\n",
    "        liv=dict(zip(machine[m],liv2[m]))\n",
    "        order=sorted(deb,key=deb.get)\n",
    "        plt.clf()\n",
    "        fig, axs = plt.subplots(figsize=(12, 1), tight_layout=True)\n",
    "        \n",
    "        colors = list(mcolors.CSS4_COLORS.keys())\n",
    "        colors_to_exclude = ['light', 'white', 'snow', 'slate', 'gray', 'beige', 'blanchedalmond', 'aliceblue', 'azure',\n",
    "                         'bisque', 'aqua', 'cornsilk']\n",
    "        for col in colors_to_exclude:\n",
    "            colors = [c for c in colors if col not in c]\n",
    "            \n",
    "        used_colors = dict()\n",
    "        for i in range(len(machine[m])):\n",
    "            for col in colors:\n",
    "                if col not in used_colors.values():\n",
    "                    used_colors[i] = col\n",
    "                    break\n",
    "        j=0\n",
    "        \n",
    "        for i in machine[m]:\n",
    "            x=dem[order[j]]\n",
    "            axs.add_patch(patches.Rectangle((x, 0), real[order[j]], 1, facecolor=colors[j],edgecolor='white',linewidth=2.0))\n",
    "            axs.annotate(order[j],(x+(real[order[j]]-dem[order[j]])/2,0.5),color='w', weight='bold',fontsize=10, ha='center', va='center')\n",
    "            j+=1\n",
    "            \n",
    "        plt.xticks(real2[m],[scalar_to_day(scalar,min_date) for scalar in real2[m]], rotation = -45)\n",
    "        plt.yticks([])\n",
    "        plt.title('Machine ' + str(m))\n",
    "        plt.show()"
   ]
  },
  {
   "cell_type": "code",
   "execution_count": 26,
   "metadata": {},
   "outputs": [],
   "source": [
    "def showMarge(machine,livVal,dmax,M):\n",
    "    print(\"MARGES : \")\n",
    "    marges=np.array(dmax)-np.array(livVal)\n",
    "    marges2=[[] for m in range(M)]\n",
    "    for m in range(M):\n",
    "        fig, ax = plt.subplots(figsize=(12, 8))\n",
    "        for i in machine[m]:\n",
    "            marges2[m].append(marges[i])\n",
    "        sns.barplot(machine[m],marges2[m])\n",
    "        plt.title(\"Marges sur la machine {}\".format(m))\n",
    "        plt.xlabel(\"Tache\")\n",
    "        plt.ylabel(\"Marges\")"
   ]
  },
  {
   "cell_type": "code",
   "execution_count": 27,
   "metadata": {},
   "outputs": [],
   "source": [
    "def showRendements(machine,mu,a):\n",
    "    print(\"RENDEMENTS : \")\n",
    "    for m in range(len(machine)):\n",
    "        plt.figure(figsize=(12,8))\n",
    "        plt.plot(np.linspace(0,1,100),a[m]*np.linspace(0,1,100))\n",
    "        for i in machine[m]:\n",
    "            plt.plot(mu[i],a[m]*mu[i], 'ro')\n",
    "            plt.annotate(str(i),(mu[i],a[m]*(mu[i]+0.05)),color=\"red\",weight='bold',fontsize=10,ha='center',va='center')\n",
    "        plt.title(\"Machine \"+str(m))\n",
    "        plt.show()"
   ]
  },
  {
   "cell_type": "code",
   "execution_count": 28,
   "metadata": {},
   "outputs": [],
   "source": [
    "demVal,debVal,livVal,realVal,real2,dem2,deb2,liv2,machine=getValues(var,2)"
   ]
  },
  {
   "cell_type": "code",
   "execution_count": 29,
   "metadata": {},
   "outputs": [
    {
     "name": "stdout",
     "output_type": "stream",
     "text": [
      "PLANIFICATION :\n"
     ]
    },
    {
     "data": {
      "text/plain": [
       "<Figure size 432x288 with 0 Axes>"
      ]
     },
     "metadata": {},
     "output_type": "display_data"
    },
    {
     "name": "stderr",
     "output_type": "stream",
     "text": [
      "C:\\Users\\Tino\\Anaconda3\\lib\\site-packages\\IPython\\core\\pylabtools.py:132: UserWarning: Tight layout not applied. The bottom and top margins cannot be made large enough to accommodate all axes decorations. \n",
      "  fig.canvas.print_figure(bytes_io, **kw)\n"
     ]
    },
    {
     "data": {
      "image/png": "[encoded data removed]",
      "text/plain": [
       "<Figure size 864x72 with 1 Axes>"
      ]
     },
     "metadata": {
      "needs_background": "light"
     },
     "output_type": "display_data"
    },
    {
     "data": {
      "text/plain": [
       "<Figure size 432x288 with 0 Axes>"
      ]
     },
     "metadata": {},
     "output_type": "display_data"
    },
    {
     "data": {
      "image/png": "[encoded data removed]",
      "text/plain": [
       "<Figure size 864x72 with 1 Axes>"
      ]
     },
     "metadata": {
      "needs_background": "light"
     },
     "output_type": "display_data"
    }
   ],
   "source": [
    "showEDT(machine,deb2,dem2,real2,liv2)"
   ]
  },
  {
   "cell_type": "code",
   "execution_count": 30,
   "metadata": {},
   "outputs": [
    {
     "name": "stdout",
     "output_type": "stream",
     "text": [
      "MARGES : \n"
     ]
    },
    {
     "name": "stderr",
     "output_type": "stream",
     "text": [
      "C:\\Users\\Tino\\Anaconda3\\lib\\site-packages\\seaborn\\_decorators.py:43: FutureWarning: Pass the following variables as keyword args: x, y. From version 0.12, the only valid positional argument will be `data`, and passing other arguments without an explicit keyword will result in an error or misinterpretation.\n",
      "  FutureWarning\n",
      "C:\\Users\\Tino\\Anaconda3\\lib\\site-packages\\seaborn\\_decorators.py:43: FutureWarning: Pass the following variables as keyword args: x, y. From version 0.12, the only valid positional argument will be `data`, and passing other arguments without an explicit keyword will result in an error or misinterpretation.\n",
      "  FutureWarning\n"
     ]
    },
    {
     "data": {
      "image/png": "[encoded data removed]",
      "text/plain": [
       "<Figure size 864x576 with 1 Axes>"
      ]
     },
     "metadata": {
      "needs_background": "light"
     },
     "output_type": "display_data"
    },
    {
     "data": {
      "image/png": "[encoded data removed]",
      "text/plain": [
       "<Figure size 864x576 with 1 Axes>"
      ]
     },
     "metadata": {
      "needs_background": "light"
     },
     "output_type": "display_data"
    }
   ],
   "source": [
    "showMarge(machine,livVal,dmax,2)"
   ]
  },
  {
   "cell_type": "markdown",
   "metadata": {},
   "source": [
    "# Main CP"
   ]
  },
  {
   "cell_type": "code",
   "execution_count": 31,
   "metadata": {},
   "outputs": [],
   "source": [
    "from pulp import *\n",
    "from os import dup, dup2, close\n",
    "import time\n",
    "import numpy as np\n",
    "\n",
    "def solvePLNEMultiMachines_2(disp, dmax, duree,M):    \n",
    "    \n",
    "    BIG_M = 1e6\n",
    "    \n",
    "    Tasks=range(len(disp)) #Liste des taches \n",
    "    Machine=range(M)\n",
    "    \n",
    "    model = LpProblem(\"Orano\", LpMaximize)\n",
    "    \n",
    "    # Variables \n",
    "    y = LpVariable.dicts(\"y\",((i,m) for i in Tasks for m in Machine),0,1,LpInteger) #y_{i}^m si i est usinée sur la machine m\n",
    "    x = LpVariable.dicts(\"x\", ((i,j,m) for i in Tasks for j in Tasks for m in Machine),0,1,LpInteger) #x_{i,j}^m=1 si i est usinée avant j\n",
    "    deb = LpVariable.dicts(\"deb\", Tasks,0, None)\n",
    "    dem = LpVariable.dicts(\"dem\", Tasks,0, None)\n",
    "    real = LpVariable.dicts(\"real\", Tasks,0, None)\n",
    "    marge = LpVariable.dicts(\"marge\", Tasks,0, None)\n",
    "    z3 = LpVariable.dicts(\"z3\", ((i,j,k,m) for i in Tasks for j in Tasks for k in Tasks for m in Machine),0,1,LpInteger)\n",
    "    z2 = LpVariable.dicts(\"z2\", ((i,j,m) for i in Tasks for j in Tasks for m in Machine),0,1,LpInteger)\n",
    "    liv = LpVariable.dicts(\"liv\", Tasks,0, None)\n",
    "    W = LpVariable(\"W\", lowBound=0)\n",
    "    \n",
    "    # Contraintes :\n",
    "    for j in Tasks:\n",
    "        \n",
    "        for m in Machine:\n",
    "            model += x[j,j,m] == 0 \n",
    "            \n",
    "        model += lpSum(y[j,m] for m in Machine)==1\n",
    "        model += dem[j] >= disp[j]\n",
    "        model += real[j] == dem[j] + duree[j] \n",
    "        model += W <= marge[j]\n",
    "        model += liv[j] == deb[j] + 30\n",
    "        model += liv[j] <= dmax[j]\n",
    "        model += marge[j] == dmax[j] - liv[j]  \n",
    "        model += deb[j] >= real[j]\n",
    "        \n",
    "        for i in Tasks:\n",
    "            if i != j:\n",
    "                for m in Machine: \n",
    "                    model += dem[j]>= real[i]-BIG_M*(1-x[i,j,m])\n",
    "                    model += z2[j,i,m] <= y[i,m]\n",
    "                    model += z2[j,i,m] <= y[j,m]\n",
    "                    model += z2[j,i,m] >= (y[i,m]+y[j,m])-1\n",
    "                    model += z2[j,i,m] >= 0\n",
    "            if i<j:\n",
    "                for m in Machine:\n",
    "                    model += x[i,j,m]+x[j,i,m]==z2[i,j,m]\n",
    "\n",
    "            for k in Tasks:\n",
    "                if i!=j and i!=k and j!=k:\n",
    "                    for m in Machine : \n",
    "                        model += z3[i,j,k,m]<=z2[i,j,m]\n",
    "                        model += z3[i,j,k,m]<=z2[i,k,m]\n",
    "                        model += z3[i,j,k,m]>=(z2[i,j,m]+z2[j,k,m])-1\n",
    "                        model += z3[i,j,k,m]>=0\n",
    "                \n",
    "    # Objectif : \n",
    "    model += W\n",
    "    \n",
    "    # Ouverture du fichier contenant les logs\n",
    "    f = open('capture.txt', 'w')\n",
    "    orig_std_out = dup(1)\n",
    "    dup2(f.fileno(), 1)\n",
    "    \n",
    "    #Resolution du PLNE : \n",
    "    starttime=time.time() #Pour avoir le temps d'execution\n",
    "    model.solve(PULP_CBC_CMD(maxSeconds=60, msg = 1))\n",
    "    solveTime=time.time()-starttime\n",
    "    \n",
    "    # Ecriture des logs dans un fichier\n",
    "    dup2(orig_std_out, 1)\n",
    "    close(orig_std_out)\n",
    "    f.close()\n",
    "    \n",
    "    #Affichage des éléments de résolution\n",
    "    f_val=[]\n",
    "    for i in range(0,len(Tasks)):\n",
    "        f_val.append(model.variables()[i].varValue)\n",
    "    order=np.argsort(f_val)\n",
    "    \n",
    "    print(\"Temps de résolution = \", solveTime)\n",
    "    print(\"Statut de la solution = \", LpStatus[model.status])\n",
    "    print(\"Valeur optimale = \", value(model.objective))\n",
    "    return(solveTime,value(model.objective),model.variables())\n"
   ]
  },
  {
   "cell_type": "code",
   "execution_count": 33,
   "metadata": {},
   "outputs": [],
   "source": [
    "#Importation des fonctions : \n",
    "from Solve_PLNE import solvePLNEMultiMachines\n",
    "from utils import *\n",
    "from graphics import *"
   ]
  },
  {
   "cell_type": "code",
   "execution_count": 34,
   "metadata": {},
   "outputs": [],
   "source": [
    "# Lecture des donnees du fichier Orano-données-Double.xlsx :\n",
    "data = pd.read_excel(\"data/raw/Orano-données-Double.xlsx\", sheet_name=\"Optim\", header=5, usecols=[3,4,5,6,7], nrows=47)"
   ]
  },
  {
   "cell_type": "code",
   "execution_count": 35,
   "metadata": {},
   "outputs": [],
   "source": [
    "# Calculs des performances de chaque machines pour chaque valeur de taux d'uranium : \n",
    "predictors=perfs()"
   ]
  },
  {
   "cell_type": "code",
   "execution_count": 36,
   "metadata": {},
   "outputs": [],
   "source": [
    "# conversion des données et récupération des n premieres commandes : \n",
    "n = 15\n",
    "disp, dmax, duree = dataframe_to_list(data)\n",
    "disp, dmax, duree = disp[:n], dmax[:n], duree[:n]"
   ]
  },
  {
   "cell_type": "code",
   "execution_count": null,
   "metadata": {},
   "outputs": [],
   "source": [
    "# Résolution du PLNE avec des valeurs aléatoires de mu : \n",
    "[t,price,var]= solvePLNEMultiMachines_2(disp, dmax, duree,2)"
   ]
  },
  {
   "cell_type": "code",
   "execution_count": null,
   "metadata": {},
   "outputs": [],
   "source": [
    "# Résolution du PLNE avec des valeurs aléatoires de mu : \n",
    "a=[12,-8]\n",
    "np.random.seed(15)\n",
    "mu=np.random.uniform(0.02,0.049,15)\n",
    "[t,price,var]= solvePLNEMultiMachines(disp, dmax, duree,2,10**6,mu,a,predictors)"
   ]
  },
  {
   "cell_type": "code",
   "execution_count": null,
   "metadata": {},
   "outputs": [],
   "source": [
    "## Affichage : \n",
    "\n",
    "# récupération des variables du plne :\n",
    "demVal,debVal,livVal,realVal,real2,dem2,deb2,liv2,machine=getValues(var,2, disp)"
   ]
  },
  {
   "cell_type": "code",
   "execution_count": null,
   "metadata": {},
   "outputs": [],
   "source": [
    "# Graphique représentant les emplois du temps des machines : \n",
    "showEDT(machine,deb2,dem2,real2,liv2)"
   ]
  },
  {
   "cell_type": "code",
   "execution_count": null,
   "metadata": {},
   "outputs": [],
   "source": [
    "# Histogramme représentant la marge de chaque commande sur la machine où elle est effectuée :\n",
    "showMarge(machine,livVal,dmax,2)"
   ]
  },
  {
   "cell_type": "code",
   "execution_count": null,
   "metadata": {},
   "outputs": [],
   "source": [
    "#Graphique représentant le rendement de la machine en fonction de la teneur en uranium désirée.\n",
    "# Chaque point rouge représente une commande : \n",
    "showRendements(machine,mu,predictors)"
   ]
  },
  {
   "cell_type": "code",
   "execution_count": null,
   "metadata": {},
   "outputs": [],
   "source": []
  },
  {
   "cell_type": "code",
   "execution_count": null,
   "metadata": {},
   "outputs": [],
   "source": []
  }
 ],
 "metadata": {
  "kernelspec": {
   "display_name": "Python 3",
   "language": "python",
   "name": "python3"
  },
  "language_info": {
   "codemirror_mode": {
    "name": "ipython",
    "version": 3
   },
   "file_extension": ".py",
   "mimetype": "text/x-python",
   "name": "python",
   "nbconvert_exporter": "python",
   "pygments_lexer": "ipython3",
   "version": "3.7.6"
  }
 },
 "nbformat": 4,
 "nbformat_minor": 4
}
